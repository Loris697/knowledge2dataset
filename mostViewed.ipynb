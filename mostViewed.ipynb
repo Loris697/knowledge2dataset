{
 "cells": [
  {
   "cell_type": "markdown",
   "source": [
    "## Pacchetti"
   ],
   "metadata": {
    "collapsed": false
   }
  },
  {
   "cell_type": "code",
   "execution_count": 21,
   "metadata": {
    "id": "ZE70Dc5EdjSK",
    "colab": {
     "base_uri": "https://localhost:8080/"
    },
    "outputId": "425e98fc-7693-4f49-a8f8-313647178f21",
    "ExecuteTime": {
     "end_time": "2024-05-24T16:36:26.267073Z",
     "start_time": "2024-05-24T16:36:26.264568Z"
    }
   },
   "outputs": [],
   "source": [
    "import requests\n",
    "import pandas as pd\n",
    "#from google.colab import drive\n",
    "#drive.mount('/content/drive/')"
   ]
  },
  {
   "cell_type": "markdown",
   "source": [
    "## Variabili globali"
   ],
   "metadata": {
    "collapsed": false
   }
  },
  {
   "cell_type": "code",
   "outputs": [],
   "source": [
    "## Variabili globali\n",
    "WIKIPEDIA_API_URL = \"https://en.wikipedia.org/w/api.php\"\n",
    "\n",
    "nentities = 10000\n",
    "BATCH_SIZE = 50"
   ],
   "metadata": {
    "collapsed": false,
    "ExecuteTime": {
     "end_time": "2024-05-24T16:36:26.271575Z",
     "start_time": "2024-05-24T16:36:26.269201Z"
    }
   },
   "execution_count": 22
  },
  {
   "cell_type": "markdown",
   "source": [
    "## Moduli"
   ],
   "metadata": {
    "collapsed": false
   }
  },
  {
   "cell_type": "code",
   "source": [
    "def process_batch(titles_batch, api_url=\"https://en.wikipedia.org/w/api.php\"):\n",
    "    params = {\n",
    "        \"action\": \"query\",\n",
    "        \"format\": \"json\",\n",
    "        \"titles\": \"|\".join(titles_batch),\n",
    "        \"prop\": \"pageprops\"\n",
    "    }\n",
    "    try:\n",
    "        response = requests.get(api_url, params=params)\n",
    "        response.raise_for_status()\n",
    "        pages = response.json().get('query', {}).get('pages', {})\n",
    "        batch_entities = {}\n",
    "        for page_id, page_info in pages.items():\n",
    "            pageprops = page_info.get('pageprops', {})\n",
    "            wikidata_id = pageprops.get('wikibase_item')\n",
    "            if wikidata_id:\n",
    "                batch_entities[page_info['title']] = wikidata_id\n",
    "        return batch_entities\n",
    "    except requests.RequestException as e:\n",
    "        print(f\"Failed to fetch data: {e}\")\n",
    "        return {}  # Return an empty dict in case of failure\n",
    "    \n",
    "def fetch_wikidata_ids(most_viewed_pages, batch_size=50, api_url=\"https://en.wikipedia.org/w/api.php\"):\n",
    "    entities = {}\n",
    "    titles_batch = []\n",
    "\n",
    "    for page in most_viewed_pages:\n",
    "        titles_batch.append(page['title'])\n",
    "        if len(titles_batch) >= batch_size:\n",
    "            entities.update(process_batch(titles_batch, api_url))\n",
    "            titles_batch = []  # Reset the batch\n",
    "\n",
    "    if titles_batch:  # Process any remaining titles\n",
    "        entities.update(process_batch(titles_batch, api_url))\n",
    "    return entities\n",
    "\n",
    "def fetch_most_viewed_pages(total_pages, api_url=\"https://en.wikipedia.org/w/api.php\"):\n",
    "    limit = 500\n",
    "    fetched_pages = []\n",
    "\n",
    "    for i in range(0, total_pages, limit):\n",
    "        params = {\n",
    "            \"action\": \"query\",\n",
    "            \"format\": \"json\",\n",
    "            \"list\": \"mostviewed\",\n",
    "            \"pvimlimit\": min(limit, total_pages - i)\n",
    "        }\n",
    "\n",
    "        response = requests.get(api_url, params=params)\n",
    "        response_data = response.json()\n",
    "\n",
    "        if 'query' in response_data and 'mostviewed' in response_data['query']:\n",
    "            fetched_pages.extend(response_data['query']['mostviewed'])\n",
    "        else:\n",
    "            break  # Exit loop if no more data is available\n",
    "\n",
    "    return fetched_pages\n",
    "\n",
    "def get_relations_batch(wikidata_ids, batch_size=50, api_url=\"https://www.wikidata.org/w/api.php\"):\n",
    "    relations = {}\n",
    "    for start in range(0, len(wikidata_ids), batch_size):\n",
    "        end = start + batch_size\n",
    "        batch = wikidata_ids[start:end]\n",
    "        wikidata_ids_str = \"|\".join(batch)\n",
    "\n",
    "        print(f\"Processing batch {start // batch_size + 1} out of {len(wikidata_ids) // batch_size + 1}\")\n",
    "\n",
    "        params = {\n",
    "            \"action\": \"wbgetentities\",\n",
    "            \"format\": \"json\",\n",
    "            \"ids\": wikidata_ids_str,\n",
    "            \"props\": \"claims\"\n",
    "        }\n",
    "\n",
    "        response = requests.get(api_url, params=params)\n",
    "        if response.status_code != 200:\n",
    "            print(f\"Error: Received status code {response.status_code}\")\n",
    "            continue\n",
    "\n",
    "        try:\n",
    "            data = response.json().get('entities', {})\n",
    "        except ValueError:\n",
    "            print(\"Error: Unable to parse JSON response\")\n",
    "            continue\n",
    "\n",
    "        for wikidata_id in batch:\n",
    "            if wikidata_id in data:\n",
    "                claims = data[wikidata_id].get('claims', {})\n",
    "                relations[wikidata_id] = claims\n",
    "            else:\n",
    "                print(f\"Warning: No data found for Wikidata ID {wikidata_id}\")\n",
    "\n",
    "    return relations\n",
    "\n",
    "def query(request):\n",
    "    request['action'] = 'query'\n",
    "    request['format'] = 'json'\n",
    "    request['pvimlimit'] = 500\n",
    "\n",
    "    lastContinue = {}\n",
    "    while True:\n",
    "        # Clone original request\n",
    "        req = request.copy()\n",
    "        # Modify it with the values returned in the 'continue' section of the last result.\n",
    "        req.update(lastContinue)\n",
    "        # Call API\n",
    "        result = requests.get('https://en.wikipedia.org/w/api.php', params=req).json()\n",
    "        if 'error' in result:\n",
    "            raise Exception(result['error'])\n",
    "        if 'warnings' in result:\n",
    "            print(result['warnings'])\n",
    "        if 'query' in result:\n",
    "            yield result['query']\n",
    "        if 'continue' not in result:\n",
    "            break\n",
    "        lastContinue = result['continue']\n",
    "\n",
    "def most_viewed():\n",
    "    request = {}\n",
    "    request['list'] = 'mostviewed'\n",
    "\n",
    "    res = query(request)\n",
    "    nl = list()\n",
    "    for r in res:\n",
    "        nl.extend(r[\"mostviewed\"])\n",
    "    \n",
    "    return nl"
   ],
   "metadata": {
    "id": "mhqmn2j9EwTU",
    "ExecuteTime": {
     "end_time": "2024-05-24T16:36:26.284883Z",
     "start_time": "2024-05-24T16:36:26.272990Z"
    }
   },
   "execution_count": 23,
   "outputs": []
  },
  {
   "cell_type": "markdown",
   "source": [
    "## Calcolo paginie più visitate"
   ],
   "metadata": {
    "collapsed": false
   }
  },
  {
   "cell_type": "code",
   "outputs": [
    {
     "name": "stdout",
     "output_type": "stream",
     "text": [
      "Fetched 999 pages\n"
     ]
    }
   ],
   "source": [
    "most_viewed_pages = most_viewed() #fetch_most_viewed_pages(nentities)\n",
    "print(f\"Fetched {len(most_viewed_pages)} pages\")\n",
    "\n",
    "entities = fetch_wikidata_ids(most_viewed_pages)\n",
    "entities_list = [str(element) for element in list(entities.values())]"
   ],
   "metadata": {
    "collapsed": false,
    "ExecuteTime": {
     "end_time": "2024-05-24T16:36:32.758529Z",
     "start_time": "2024-05-24T16:36:26.285756Z"
    }
   },
   "execution_count": 24
  },
  {
   "cell_type": "code",
   "outputs": [
    {
     "name": "stdout",
     "output_type": "stream",
     "text": [
      "Processing batch 1 out of 20\n",
      "Processing batch 2 out of 20\n",
      "Processing batch 3 out of 20\n",
      "Processing batch 4 out of 20\n",
      "Processing batch 5 out of 20\n",
      "Processing batch 6 out of 20\n",
      "Processing batch 7 out of 20\n",
      "Processing batch 8 out of 20\n",
      "Processing batch 9 out of 20\n",
      "Processing batch 10 out of 20\n",
      "Processing batch 11 out of 20\n",
      "Processing batch 12 out of 20\n",
      "Processing batch 13 out of 20\n",
      "Processing batch 14 out of 20\n",
      "Processing batch 15 out of 20\n",
      "Processing batch 16 out of 20\n",
      "Processing batch 17 out of 20\n",
      "Processing batch 18 out of 20\n",
      "Processing batch 19 out of 20\n",
      "Processing batch 20 out of 20\n",
      "Processing complete.\n"
     ]
    }
   ],
   "source": [
    "relations = get_relations_batch(entities_list)\n",
    "print(\"Processing complete.\")"
   ],
   "metadata": {
    "collapsed": false,
    "ExecuteTime": {
     "end_time": "2024-05-24T16:37:32.912023Z",
     "start_time": "2024-05-24T16:36:32.761763Z"
    }
   },
   "execution_count": 25
  },
  {
   "cell_type": "code",
   "execution_count": 26,
   "metadata": {
    "id": "0mT7q-T1tzLd",
    "ExecuteTime": {
     "end_time": "2024-05-24T16:37:32.915877Z",
     "start_time": "2024-05-24T16:37:32.912838Z"
    }
   },
   "outputs": [
    {
     "name": "stdout",
     "output_type": "stream",
     "text": [
      "Entity: Q65042773\n",
      "  Property: P31\n",
      "    Value: {'value': {'entity-type': 'item', 'numeric-id': 2618461, 'id': 'Q2618461'}, 'type': 'wikibase-entityid'}\n",
      "    Value: {'value': {'entity-type': 'item', 'numeric-id': 22696407, 'id': 'Q22696407'}, 'type': 'wikibase-entityid'}\n",
      "    Value: {'value': {'entity-type': 'item', 'numeric-id': 3123403, 'id': 'Q3123403'}, 'type': 'wikibase-entityid'}\n",
      "  Property: P17\n",
      "    Value: {'value': {'entity-type': 'item', 'numeric-id': 668, 'id': 'Q668'}, 'type': 'wikibase-entityid'}\n",
      "  Property: P2671\n",
      "    Value: {'value': '/g/11h1fz0m1k', 'type': 'string'}\n",
      "  Property: P155\n",
      "    Value: {'value': {'entity-type': 'item', 'numeric-id': 28164181, 'id': 'Q28164181'}, 'type': 'wikibase-entityid'}\n",
      "  Property: P1617\n",
      "    Value: {'value': '0becc2b0-09bd-4d75-b1ed-76315351db7b', 'type': 'string'}\n",
      "  Property: P541\n",
      "    Value: {'value': {'entity-type': 'item', 'numeric-id': 16556694, 'id': 'Q16556694'}, 'type': 'wikibase-entityid'}\n",
      "  Property: P580\n",
      "    Value: {'value': {'time': '+2024-04-19T00:00:00Z', 'timezone': 0, 'before': 0, 'after': 0, 'precision': 11, 'calendarmodel': 'http://www.wikidata.org/entity/Q1985727'}, 'type': 'time'}\n",
      "  Property: P1001\n",
      "    Value: {'value': {'entity-type': 'item', 'numeric-id': 668, 'id': 'Q668'}, 'type': 'wikibase-entityid'}\n",
      "  Property: P8313\n",
      "    Value: {'value': 'valg_i_Indien_2024', 'type': 'string'}\n",
      "  Property: P6200\n",
      "    Value: {'value': 'ce483qevngqt', 'type': 'string'}\n",
      "  Property: P585\n",
      "    Value: {'value': {'time': '+2024-04-19T00:00:00Z', 'timezone': 0, 'before': 0, 'after': 0, 'precision': 11, 'calendarmodel': 'http://www.wikidata.org/entity/Q1985727'}, 'type': 'time'}\n",
      "    Value: {'value': {'time': '+2024-04-26T00:00:00Z', 'timezone': 0, 'before': 0, 'after': 0, 'precision': 11, 'calendarmodel': 'http://www.wikidata.org/entity/Q1985727'}, 'type': 'time'}\n",
      "    Value: {'value': {'time': '+2024-05-07T00:00:00Z', 'timezone': 0, 'before': 0, 'after': 0, 'precision': 11, 'calendarmodel': 'http://www.wikidata.org/entity/Q1985727'}, 'type': 'time'}\n",
      "    Value: {'value': {'time': '+2024-05-13T00:00:00Z', 'timezone': 0, 'before': 0, 'after': 0, 'precision': 11, 'calendarmodel': 'http://www.wikidata.org/entity/Q1985727'}, 'type': 'time'}\n",
      "    Value: {'value': {'time': '+2024-05-20T00:00:00Z', 'timezone': 0, 'before': 0, 'after': 0, 'precision': 11, 'calendarmodel': 'http://www.wikidata.org/entity/Q1985727'}, 'type': 'time'}\n",
      "    Value: {'value': {'time': '+2024-05-25T00:00:00Z', 'timezone': 0, 'before': 0, 'after': 0, 'precision': 11, 'calendarmodel': 'http://www.wikidata.org/entity/Q1985727'}, 'type': 'time'}\n",
      "    Value: {'value': {'time': '+2024-06-01T00:00:00Z', 'timezone': 0, 'before': 0, 'after': 0, 'precision': 11, 'calendarmodel': 'http://www.wikidata.org/entity/Q1985727'}, 'type': 'time'}\n",
      "  Property: P856\n",
      "    Value: {'value': 'https://elections24.eci.gov.in/', 'type': 'string'}\n",
      "  Property: P582\n",
      "    Value: {'value': {'time': '+2024-06-01T00:00:00Z', 'timezone': 0, 'before': 0, 'after': 0, 'precision': 11, 'calendarmodel': 'http://www.wikidata.org/entity/Q1985727'}, 'type': 'time'}\n",
      "  Property: P527\n",
      "    Value: {'value': {'entity-type': 'item', 'numeric-id': 120355500, 'id': 'Q120355500'}, 'type': 'wikibase-entityid'}\n",
      "    Value: {'value': {'entity-type': 'item', 'numeric-id': 120972533, 'id': 'Q120972533'}, 'type': 'wikibase-entityid'}\n",
      "    Value: {'value': {'entity-type': 'item', 'numeric-id': 117305542, 'id': 'Q117305542'}, 'type': 'wikibase-entityid'}\n",
      "    Value: {'value': {'entity-type': 'item', 'numeric-id': 116030287, 'id': 'Q116030287'}, 'type': 'wikibase-entityid'}\n",
      "    Value: {'value': {'entity-type': 'item', 'numeric-id': 120972620, 'id': 'Q120972620'}, 'type': 'wikibase-entityid'}\n",
      "    Value: {'value': {'entity-type': 'item', 'numeric-id': 104834313, 'id': 'Q104834313'}, 'type': 'wikibase-entityid'}\n",
      "    Value: {'value': {'entity-type': 'item', 'numeric-id': 121990850, 'id': 'Q121990850'}, 'type': 'wikibase-entityid'}\n",
      "    Value: {'value': {'entity-type': 'item', 'numeric-id': 116824796, 'id': 'Q116824796'}, 'type': 'wikibase-entityid'}\n",
      "    Value: {'value': {'entity-type': 'item', 'numeric-id': 123441360, 'id': 'Q123441360'}, 'type': 'wikibase-entityid'}\n",
      "    Value: {'value': {'entity-type': 'item', 'numeric-id': 123444796, 'id': 'Q123444796'}, 'type': 'wikibase-entityid'}\n",
      "    Value: {'value': {'entity-type': 'item', 'numeric-id': 119854026, 'id': 'Q119854026'}, 'type': 'wikibase-entityid'}\n",
      "    Value: {'value': {'entity-type': 'item', 'numeric-id': 117149229, 'id': 'Q117149229'}, 'type': 'wikibase-entityid'}\n",
      "    Value: {'value': {'entity-type': 'item', 'numeric-id': 117272442, 'id': 'Q117272442'}, 'type': 'wikibase-entityid'}\n",
      "    Value: {'value': {'entity-type': 'item', 'numeric-id': 115818033, 'id': 'Q115818033'}, 'type': 'wikibase-entityid'}\n",
      "    Value: {'value': {'entity-type': 'item', 'numeric-id': 121090873, 'id': 'Q121090873'}, 'type': 'wikibase-entityid'}\n",
      "    Value: {'value': {'entity-type': 'item', 'numeric-id': 121879010, 'id': 'Q121879010'}, 'type': 'wikibase-entityid'}\n",
      "    Value: {'value': {'entity-type': 'item', 'numeric-id': 121878916, 'id': 'Q121878916'}, 'type': 'wikibase-entityid'}\n",
      "    Value: {'value': {'entity-type': 'item', 'numeric-id': 122226972, 'id': 'Q122226972'}, 'type': 'wikibase-entityid'}\n",
      "    Value: {'value': {'entity-type': 'item', 'numeric-id': 121879004, 'id': 'Q121879004'}, 'type': 'wikibase-entityid'}\n",
      "    Value: {'value': {'entity-type': 'item', 'numeric-id': 116909696, 'id': 'Q116909696'}, 'type': 'wikibase-entityid'}\n",
      "    Value: {'value': {'entity-type': 'item', 'numeric-id': 117272435, 'id': 'Q117272435'}, 'type': 'wikibase-entityid'}\n",
      "    Value: {'value': {'entity-type': 'item', 'numeric-id': 123253517, 'id': 'Q123253517'}, 'type': 'wikibase-entityid'}\n",
      "    Value: {'value': {'entity-type': 'item', 'numeric-id': 116029950, 'id': 'Q116029950'}, 'type': 'wikibase-entityid'}\n",
      "    Value: {'value': {'entity-type': 'item', 'numeric-id': 118896083, 'id': 'Q118896083'}, 'type': 'wikibase-entityid'}\n",
      "    Value: {'value': {'entity-type': 'item', 'numeric-id': 113540828, 'id': 'Q113540828'}, 'type': 'wikibase-entityid'}\n",
      "    Value: {'value': {'entity-type': 'item', 'numeric-id': 112126830, 'id': 'Q112126830'}, 'type': 'wikibase-entityid'}\n",
      "    Value: {'value': {'entity-type': 'item', 'numeric-id': 121878881, 'id': 'Q121878881'}, 'type': 'wikibase-entityid'}\n",
      "    Value: {'value': {'entity-type': 'item', 'numeric-id': 118966249, 'id': 'Q118966249'}, 'type': 'wikibase-entityid'}\n",
      "    Value: {'value': {'entity-type': 'item', 'numeric-id': 116873346, 'id': 'Q116873346'}, 'type': 'wikibase-entityid'}\n",
      "    Value: {'value': {'entity-type': 'item', 'numeric-id': 120397687, 'id': 'Q120397687'}, 'type': 'wikibase-entityid'}\n",
      "    Value: {'value': {'entity-type': 'item', 'numeric-id': 124803105, 'id': 'Q124803105'}, 'type': 'wikibase-entityid'}\n",
      "    Value: {'value': {'entity-type': 'item', 'numeric-id': 124803095, 'id': 'Q124803095'}, 'type': 'wikibase-entityid'}\n",
      "    Value: {'value': {'entity-type': 'item', 'numeric-id': 124739558, 'id': 'Q124739558'}, 'type': 'wikibase-entityid'}\n",
      "    Value: {'value': {'entity-type': 'item', 'numeric-id': 121990221, 'id': 'Q121990221'}, 'type': 'wikibase-entityid'}\n",
      "    Value: {'value': {'entity-type': 'item', 'numeric-id': 124811321, 'id': 'Q124811321'}, 'type': 'wikibase-entityid'}\n",
      "    Value: {'value': {'entity-type': 'item', 'numeric-id': 124794628, 'id': 'Q124794628'}, 'type': 'wikibase-entityid'}\n",
      "  Property: P4431\n",
      "    Value: {'value': 'india-general-elections-2024-ph-2', 'type': 'string'}\n",
      "    Value: {'value': 'india-national-elections-2024', 'type': 'string'}\n",
      "    Value: {'value': 'india-general-elections-2024-ph-3', 'type': 'string'}\n",
      "    Value: {'value': 'india-general-elections-2024-ph-4', 'type': 'string'}\n",
      "  Property: P910\n",
      "    Value: {'value': {'entity-type': 'item', 'numeric-id': 112229207, 'id': 'Q112229207'}, 'type': 'wikibase-entityid'}\n",
      "  Property: P373\n",
      "    Value: {'value': '2024 Indian general election', 'type': 'string'}\n",
      "  Property: P7301\n",
      "    Value: {'value': 'tag/india-election-2024', 'type': 'string'}\n",
      "Entity: Q78851988\n",
      "  Property: P155\n",
      "    Value: {'value': {'entity-type': 'item', 'numeric-id': 30173038, 'id': 'Q30173038'}, 'type': 'wikibase-entityid'}\n",
      "  Property: P31\n",
      "    Value: {'value': {'entity-type': 'item', 'numeric-id': 15283424, 'id': 'Q15283424'}, 'type': 'wikibase-entityid'}\n",
      "    Value: {'value': {'entity-type': 'item', 'numeric-id': 114775014, 'id': 'Q114775014'}, 'type': 'wikibase-entityid'}\n",
      "  Property: P17\n",
      "    Value: {'value': {'entity-type': 'item', 'numeric-id': 145, 'id': 'Q145'}, 'type': 'wikibase-entityid'}\n",
      "  Property: P1001\n",
      "    Value: {'value': {'entity-type': 'item', 'numeric-id': 145, 'id': 'Q145'}, 'type': 'wikibase-entityid'}\n",
      "  Property: P541\n",
      "    Value: {'value': {'entity-type': 'item', 'numeric-id': 126063447, 'id': 'Q126063447'}, 'type': 'wikibase-entityid'}\n",
      "  Property: P2671\n",
      "    Value: {'value': '/g/11fpcyq7j_', 'type': 'string'}\n",
      "  Property: P8196\n",
      "    Value: {'value': {'entity-type': 'item', 'numeric-id': 205759, 'id': 'Q205759'}, 'type': 'wikibase-entityid'}\n",
      "  Property: P585\n",
      "    Value: {'value': {'time': '+2024-07-04T00:00:00Z', 'timezone': 0, 'before': 0, 'after': 0, 'precision': 11, 'calendarmodel': 'http://www.wikidata.org/entity/Q1985727'}, 'type': 'time'}\n",
      "  Property: P8313\n",
      "    Value: {'value': 'valg_i_Storbritannien_2024', 'type': 'string'}\n",
      "  Property: P373\n",
      "    Value: {'value': '2024 United Kingdom general election', 'type': 'string'}\n",
      "  Property: P6649\n",
      "    Value: {'value': 'parl.2024-07-04', 'type': 'string'}\n",
      "  Property: P910\n",
      "    Value: {'value': {'entity-type': 'item', 'numeric-id': 126040194, 'id': 'Q126040194'}, 'type': 'wikibase-entityid'}\n"
     ]
    }
   ],
   "source": [
    "# Print out the relations\n",
    "limit = 1\n",
    "count = 0\n",
    "for wikidata_id, claims in relations.items():\n",
    "    if count<=limit:\n",
    "        count+=1\n",
    "        print(f\"Entity: {wikidata_id}\")\n",
    "        for property_id, claim_list in claims.items():\n",
    "            print(f\"  Property: {property_id}\")\n",
    "            for claim in claim_list:\n",
    "                mainsnak = claim['mainsnak']\n",
    "                if 'datavalue' in mainsnak:\n",
    "                    value = mainsnak['datavalue']\n",
    "                    print(f\"    Value: {value}\")\n",
    "    else:\n",
    "        break"
   ]
  },
  {
   "cell_type": "code",
   "execution_count": 27,
   "metadata": {
    "id": "ED1sFI0Cxn3b",
    "ExecuteTime": {
     "end_time": "2024-05-24T16:37:32.997764Z",
     "start_time": "2024-05-24T16:37:32.916739Z"
    }
   },
   "outputs": [
    {
     "data": {
      "text/plain": "      entity  rel       objt\n0  Q65042773  P31   Q2618461\n1  Q65042773  P31  Q22696407\n2  Q65042773  P31   Q3123403",
      "text/html": "<div>\n<style scoped>\n    .dataframe tbody tr th:only-of-type {\n        vertical-align: middle;\n    }\n\n    .dataframe tbody tr th {\n        vertical-align: top;\n    }\n\n    .dataframe thead th {\n        text-align: right;\n    }\n</style>\n<table border=\"1\" class=\"dataframe\">\n  <thead>\n    <tr style=\"text-align: right;\">\n      <th></th>\n      <th>entity</th>\n      <th>rel</th>\n      <th>objt</th>\n    </tr>\n  </thead>\n  <tbody>\n    <tr>\n      <th>0</th>\n      <td>Q65042773</td>\n      <td>P31</td>\n      <td>Q2618461</td>\n    </tr>\n    <tr>\n      <th>1</th>\n      <td>Q65042773</td>\n      <td>P31</td>\n      <td>Q22696407</td>\n    </tr>\n    <tr>\n      <th>2</th>\n      <td>Q65042773</td>\n      <td>P31</td>\n      <td>Q3123403</td>\n    </tr>\n  </tbody>\n</table>\n</div>"
     },
     "execution_count": 27,
     "metadata": {},
     "output_type": "execute_result"
    }
   ],
   "source": [
    "triples = []\n",
    "\n",
    "for wikidata_id, claims in relations.items():\n",
    "    for property_id, claim_list in claims.items():\n",
    "        for claim in claim_list:\n",
    "            mainsnak = claim['mainsnak']\n",
    "            if 'datavalue' in mainsnak:\n",
    "                value = mainsnak['datavalue']\n",
    "                if value['type'] == 'wikibase-entityid':\n",
    "                    value_id = value['value']['id']\n",
    "                    #print(f\"Entity: {wikidata_id} Relation: {property_id} Entity: {value_id}\")\n",
    "                    triples.append({'entity': wikidata_id, 'rel': property_id, 'objt': value_id})\n",
    "\n",
    "# Crea il DataFrame dalle triple\n",
    "df = pd.DataFrame(triples)\n",
    "df.head(3)"
   ]
  },
  {
   "cell_type": "code",
   "execution_count": 28,
   "metadata": {
    "id": "NIrZHeiV2PgI",
    "ExecuteTime": {
     "end_time": "2024-05-24T16:37:33.009493Z",
     "start_time": "2024-05-24T16:37:32.998584Z"
    }
   },
   "outputs": [
    {
     "name": "stdout",
     "output_type": "stream",
     "text": [
      "Numero di entità (head) presenti: 979\n",
      "Numero di relazioni presenti: 592\n",
      "Numero di entità (tail) presenti: 30973\n"
     ]
    }
   ],
   "source": [
    "print(f\"Numero di entità (head) presenti: {df.entity.nunique()}\")\n",
    "print(f\"Numero di relazioni presenti: {df.rel.nunique()}\")\n",
    "print(f\"Numero di entità (tail) presenti: {df.objt.nunique()}\")"
   ]
  },
  {
   "cell_type": "code",
   "outputs": [
    {
     "data": {
      "text/plain": "(55261, 3)"
     },
     "execution_count": 30,
     "metadata": {},
     "output_type": "execute_result"
    }
   ],
   "source": [
    "df.shape"
   ],
   "metadata": {
    "collapsed": false,
    "ExecuteTime": {
     "end_time": "2024-05-24T16:37:33.051045Z",
     "start_time": "2024-05-24T16:37:33.048801Z"
    }
   },
   "execution_count": 30
  },
  {
   "cell_type": "code",
   "execution_count": 29,
   "metadata": {
    "id": "4eWHmi56r6Zk",
    "ExecuteTime": {
     "end_time": "2024-05-24T16:37:33.048038Z",
     "start_time": "2024-05-24T16:37:33.010948Z"
    }
   },
   "outputs": [],
   "source": [
    "df.to_csv(\"./data/df_triple.csv\", index=None)"
   ]
  }
 ],
 "metadata": {
  "colab": {
   "provenance": []
  },
  "kernelspec": {
   "name": "python3",
   "language": "python",
   "display_name": "Python 3 (ipykernel)"
  },
  "language_info": {
   "name": "python"
  }
 },
 "nbformat": 4,
 "nbformat_minor": 0
}
