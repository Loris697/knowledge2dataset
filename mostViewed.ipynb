{
 "cells": [
  {
   "cell_type": "markdown",
   "source": [
    "## Pacchetti"
   ],
   "metadata": {
    "collapsed": false
   }
  },
  {
   "cell_type": "code",
   "execution_count": 2,
   "metadata": {
    "id": "ZE70Dc5EdjSK",
    "colab": {
     "base_uri": "https://localhost:8080/"
    },
    "outputId": "425e98fc-7693-4f49-a8f8-313647178f21",
    "ExecuteTime": {
     "end_time": "2024-05-31T13:53:15.478296Z",
     "start_time": "2024-05-31T13:53:15.072113Z"
    }
   },
   "outputs": [
    {
     "name": "stderr",
     "output_type": "stream",
     "text": [
      "/Users/andreamdipalma/DataspellProjects/knowledge2dataset/venv/lib/python3.9/site-packages/urllib3/__init__.py:35: NotOpenSSLWarning: urllib3 v2 only supports OpenSSL 1.1.1+, currently the 'ssl' module is compiled with 'LibreSSL 2.8.3'. See: https://github.com/urllib3/urllib3/issues/3020\n",
      "  warnings.warn(\n"
     ]
    }
   ],
   "source": [
    "import pandas as pd\n",
    "import requests\n",
    "from tqdm import tqdm\n",
    "import time\n",
    "from datetime import datetime, timedelta\n",
    "#from google.colab import drive\n",
    "#drive.mount('/content/drive/')"
   ]
  },
  {
   "cell_type": "markdown",
   "source": [
    "## Moduli"
   ],
   "metadata": {
    "collapsed": false
   }
  },
  {
   "cell_type": "code",
   "source": [
    "def normalize_title(title):\n",
    "    return title.strip().lower().replace(' ', '_')\n",
    "\n",
    "def process_batch(titles_batch, api_url=\"https://en.wikipedia.org/w/api.php\"):\n",
    "    params = {\n",
    "        \"action\": \"query\",\n",
    "        \"format\": \"json\",\n",
    "        \"titles\": \"|\".join(titles_batch.keys()),\n",
    "        \"prop\": \"pageprops\"\n",
    "    }\n",
    "    try:\n",
    "        response = requests.get(api_url, params=params)\n",
    "        response.raise_for_status()\n",
    "        pages = response.json().get('query', {}).get('pages', {})\n",
    "        batch_entities = {}\n",
    "        for page_id, page_info in pages.items():\n",
    "            pageprops = page_info.get('pageprops', {})\n",
    "            wikidata_id = pageprops.get('wikibase_item')\n",
    "            if wikidata_id:\n",
    "                title = page_info['title']\n",
    "                normalized_title = normalize_title(title)\n",
    "                if normalized_title in titles_batch:\n",
    "                    batch_entities[title] = {\n",
    "                        \"wikidata_id\": wikidata_id,\n",
    "                        \"views\": titles_batch[normalized_title]\n",
    "                    }\n",
    "        return batch_entities\n",
    "    except requests.RequestException as e:\n",
    "        print(f\"Failed to fetch data: {e}\")\n",
    "        return {}  # Return an empty dict in case of failure\n",
    "\n",
    "def fetch_wikidata_ids(most_viewed_pages, batch_size=50, api_url=\"https://en.wikipedia.org/w/api.php\"):\n",
    "    entities = {}\n",
    "    titles_batch = {}\n",
    "\n",
    "    for page in most_viewed_pages:\n",
    "        normalized_title = normalize_title(page['article'])\n",
    "        titles_batch[normalized_title] = page['views']\n",
    "        if len(titles_batch) >= batch_size:\n",
    "            entities.update(process_batch(titles_batch, api_url))\n",
    "            titles_batch = {}  # Reset the batch\n",
    "\n",
    "    if titles_batch:  # Process any remaining titles\n",
    "        entities.update(process_batch(titles_batch, api_url))\n",
    "\n",
    "    return entities\n",
    "\n",
    "def get_relations_batch(wikidata_ids, batch_size=50, api_url=\"https://www.wikidata.org/w/api.php\"):\n",
    "    relations = {}\n",
    "    for start in range(0, len(wikidata_ids), batch_size):\n",
    "        end = start + batch_size\n",
    "        batch = wikidata_ids[start:end]\n",
    "        wikidata_ids_str = \"|\".join(batch)\n",
    "\n",
    "        print(f\"Processing batch {start // batch_size + 1} out of {len(wikidata_ids) // batch_size + 1}\")\n",
    "\n",
    "        params = {\n",
    "            \"action\": \"wbgetentities\",\n",
    "            \"format\": \"json\",\n",
    "            \"ids\": wikidata_ids_str,\n",
    "            \"props\": \"claims\"\n",
    "        }\n",
    "\n",
    "        response = requests.get(api_url, params=params)\n",
    "        if response.status_code != 200:\n",
    "            print(f\"Error: Received status code {response.status_code}\")\n",
    "            continue\n",
    "\n",
    "        try:\n",
    "            data = response.json().get('entities', {})\n",
    "        except ValueError:\n",
    "            print(\"Error: Unable to parse JSON response\")\n",
    "            continue\n",
    "\n",
    "        for wikidata_id in batch:\n",
    "            if wikidata_id in data:\n",
    "                claims = data[wikidata_id].get('claims', {})\n",
    "                relations[wikidata_id] = claims\n",
    "            else:\n",
    "                print(f\"Warning: No data found for Wikidata ID {wikidata_id}\")\n",
    "\n",
    "    return relations\n",
    "\n",
    "\n",
    "def query(date):\n",
    "    url = f'https://wikimedia.org/api/rest_v1/metrics/pageviews/top/en.wikipedia/all-access/{date}'\n",
    "    user_agent = \"Mozilla/5.0 (Windows NT 10.0; Win64; x64) AppleWebKit/537.36 (KHTML, like Gecko) Chrome/91.0.4472.124 Safari/537.36\"\n",
    "\n",
    "    result = requests.get(url, headers={'User-Agent': user_agent}).json()\n",
    "\n",
    "    if 'error' in result:\n",
    "        raise Exception(result['error'])\n",
    "    if 'warnings' in result:\n",
    "        print(result['warnings'])\n",
    "    if 'items' in result:\n",
    "        return result['items'][0]['articles']\n",
    "    return []\n",
    "\n",
    "def most_viewed(n):\n",
    "    unique_articles = {}\n",
    "    date = datetime.strptime(\"2024-01-01\", \"%Y-%m-%d\")\n",
    "\n",
    "    while len(unique_articles) < n:\n",
    "        formatted_date = date.strftime(\"%Y/%m/%d\")\n",
    "        articles = query(formatted_date)\n",
    "\n",
    "        for article in articles:\n",
    "            unique_articles[article['article']] = article\n",
    "\n",
    "        date -= timedelta(days=1)  # Passa al giorno precedente\n",
    "\n",
    "    # Prendi solo i primi n articoli\n",
    "    most_viewed_articles = list(unique_articles.values())[:n]\n",
    "\n",
    "    return most_viewed_articles"
   ],
   "metadata": {
    "id": "mhqmn2j9EwTU",
    "ExecuteTime": {
     "end_time": "2024-05-31T13:53:15.487536Z",
     "start_time": "2024-05-31T13:53:15.479585Z"
    }
   },
   "execution_count": 3,
   "outputs": []
  },
  {
   "cell_type": "markdown",
   "source": [
    "### Moduli per le informazioni sulle code"
   ],
   "metadata": {
    "collapsed": false
   }
  },
  {
   "cell_type": "code",
   "outputs": [],
   "source": [
    "def get_wikipedia_titles(wikidata_ids):\n",
    "    url = 'https://www.wikidata.org/w/api.php'\n",
    "    params = {\n",
    "        'action': 'wbgetentities',\n",
    "        'format': 'json',\n",
    "        'ids': '|'.join(wikidata_ids),\n",
    "        'props': 'sitelinks',\n",
    "        'sitefilter': 'enwiki'\n",
    "    }\n",
    "    response = requests.get(url, params=params)\n",
    "    data = response.json()\n",
    "\n",
    "    titles = []\n",
    "    ent = []\n",
    "    for entity in data.get('entities', {}).values():\n",
    "        sitelinks = entity.get('sitelinks', {})\n",
    "        if 'enwiki' in sitelinks:\n",
    "            titles.append(sitelinks['enwiki']['title'])\n",
    "            ent.append(entity['id'])\n",
    "\n",
    "    df_titles = pd.DataFrame(columns=['titles', 'id'])\n",
    "    df_titles['titles'] = titles\n",
    "    df_titles['ent'] = ent\n",
    "    return df_titles\n",
    "\n",
    "def get_pageviews(titles):\n",
    "    url = 'https://wikimedia.org/api/rest_v1/metrics/pageviews/per-article/en.wikipedia/all-access/all-agents/{}/daily/20230101/20231231'\n",
    "    user_agent = \"Mozilla/5.0 (Windows NT 10.0; Win64; x64) AppleWebKit/537.36 (KHTML, like Gecko) Chrome/91.0.4472.124 Safari/537.36\"\n",
    "    pageviews = {}\n",
    "\n",
    "    for title in titles:\n",
    "        title_formatted = title.replace(' ', '_')\n",
    "        response = requests.get(url.format(title_formatted), headers={'User-Agent': user_agent})\n",
    "        if response.status_code == 200:\n",
    "            data = response.json()\n",
    "            views = sum(item['views'] for item in data['items'])\n",
    "            pageviews[title] = views\n",
    "        else:\n",
    "            pageviews[title] = \"None\"\n",
    "\n",
    "    return pageviews\n",
    "\n",
    "def process_wikidata_entities(wikidata_ids):\n",
    "    results = {}\n",
    "    batch_size = 50\n",
    "\n",
    "    df = pd.DataFrame(columns=['id', 'title', 'views'])\n",
    "\n",
    "    for i in tqdm(range(0, len(wikidata_ids), batch_size), \"Batch\"):\n",
    "        batch = wikidata_ids[i:i+batch_size]\n",
    "        #print(\"Before get_wikipedia_titles: \", time.time() - start_time)\n",
    "        titles = get_wikipedia_titles(batch)\n",
    "        #print(\"After get_wikipedia_titles: \", time.time() - start_time)\n",
    "        pageviews = get_pageviews(titles.titles.to_list())\n",
    "        #print(\"After get_pageviews: \", time.time() - start_time)\n",
    "\n",
    "        app = pd.DataFrame({'id':titles.ent.to_list(), 'title':titles.titles.to_list(), 'views':pageviews.values()})\n",
    "        df = pd.concat([df, app], ignore_index=True)\n",
    "        results.update(pageviews)\n",
    "\n",
    "    return results, df"
   ],
   "metadata": {
    "collapsed": false,
    "ExecuteTime": {
     "end_time": "2024-05-31T13:53:15.493924Z",
     "start_time": "2024-05-31T13:53:15.488365Z"
    }
   },
   "execution_count": 4
  },
  {
   "cell_type": "markdown",
   "source": [
    "## Calcolo paginie più visitate"
   ],
   "metadata": {
    "collapsed": false
   }
  },
  {
   "cell_type": "code",
   "outputs": [
    {
     "name": "stdout",
     "output_type": "stream",
     "text": [
      "Fetched 1000 pages\n"
     ]
    }
   ],
   "source": [
    "n = 1000  # Numero di pagine uniche richieste\n",
    "most_viewed_pages = most_viewed(n)\n",
    "print(f\"Fetched {len(most_viewed_pages)} pages\")"
   ],
   "metadata": {
    "collapsed": false,
    "ExecuteTime": {
     "end_time": "2024-05-31T13:53:15.650682Z",
     "start_time": "2024-05-31T13:53:15.495404Z"
    }
   },
   "execution_count": 5
  },
  {
   "cell_type": "code",
   "outputs": [],
   "source": [
    "entities = fetch_wikidata_ids(most_viewed_pages)\n",
    "entities_id = [str(element['wikidata_id']) for element in list(entities.values())]\n",
    "entities_views = [str(element['views']) for element in list(entities.values())]\n",
    "entities_title = entities.keys()"
   ],
   "metadata": {
    "collapsed": false,
    "ExecuteTime": {
     "end_time": "2024-05-31T13:53:21.804749Z",
     "start_time": "2024-05-31T13:53:15.651633Z"
    }
   },
   "execution_count": 6
  },
  {
   "cell_type": "code",
   "outputs": [
    {
     "data": {
      "text/plain": "        pageTitle   views wikidata_id\n0       Cleopatra  158267        Q635\n1  Deaths in 2024  151799  Q123489953\n2    Dunki (film)  209043  Q122341144",
      "text/html": "<div>\n<style scoped>\n    .dataframe tbody tr th:only-of-type {\n        vertical-align: middle;\n    }\n\n    .dataframe tbody tr th {\n        vertical-align: top;\n    }\n\n    .dataframe thead th {\n        text-align: right;\n    }\n</style>\n<table border=\"1\" class=\"dataframe\">\n  <thead>\n    <tr style=\"text-align: right;\">\n      <th></th>\n      <th>pageTitle</th>\n      <th>views</th>\n      <th>wikidata_id</th>\n    </tr>\n  </thead>\n  <tbody>\n    <tr>\n      <th>0</th>\n      <td>Cleopatra</td>\n      <td>158267</td>\n      <td>Q635</td>\n    </tr>\n    <tr>\n      <th>1</th>\n      <td>Deaths in 2024</td>\n      <td>151799</td>\n      <td>Q123489953</td>\n    </tr>\n    <tr>\n      <th>2</th>\n      <td>Dunki (film)</td>\n      <td>209043</td>\n      <td>Q122341144</td>\n    </tr>\n  </tbody>\n</table>\n</div>"
     },
     "execution_count": 7,
     "metadata": {},
     "output_type": "execute_result"
    }
   ],
   "source": [
    "df_ent = pd.DataFrame(columns=['pageTitle', 'views', 'wikidata_id'])\n",
    "df_ent['pageTitle'] = entities_title\n",
    "df_ent['views'] = entities_views\n",
    "df_ent['wikidata_id'] = entities_id\n",
    "\n",
    "df_ent.head(3)"
   ],
   "metadata": {
    "collapsed": false,
    "ExecuteTime": {
     "end_time": "2024-05-31T13:53:21.826979Z",
     "start_time": "2024-05-31T13:53:21.806533Z"
    }
   },
   "execution_count": 7
  },
  {
   "cell_type": "markdown",
   "source": [
    "## Derivazione delle relazioni dalle pagine più visitate"
   ],
   "metadata": {
    "collapsed": false
   }
  },
  {
   "cell_type": "code",
   "outputs": [
    {
     "name": "stdout",
     "output_type": "stream",
     "text": [
      "Processing batch 1 out of 3\n",
      "Processing batch 2 out of 3\n",
      "Processing batch 3 out of 3\n",
      "Processing complete.\n"
     ]
    }
   ],
   "source": [
    "relations = get_relations_batch(df_ent['wikidata_id'].to_list())\n",
    "print(\"Processing complete.\")"
   ],
   "metadata": {
    "collapsed": false,
    "ExecuteTime": {
     "end_time": "2024-05-31T13:53:37.985854Z",
     "start_time": "2024-05-31T13:53:21.828022Z"
    }
   },
   "execution_count": 8
  },
  {
   "cell_type": "markdown",
   "source": [
    "### Visualizzazione delle relazioni"
   ],
   "metadata": {
    "collapsed": false
   }
  },
  {
   "cell_type": "code",
   "execution_count": 1,
   "metadata": {
    "id": "0mT7q-T1tzLd",
    "ExecuteTime": {
     "end_time": "2024-05-31T13:53:11.227238Z",
     "start_time": "2024-05-31T13:53:11.109877Z"
    }
   },
   "outputs": [
    {
     "ename": "NameError",
     "evalue": "name 'relations' is not defined",
     "output_type": "error",
     "traceback": [
      "\u001B[0;31m---------------------------------------------------------------------------\u001B[0m",
      "\u001B[0;31mNameError\u001B[0m                                 Traceback (most recent call last)",
      "Cell \u001B[0;32mIn[1], line 4\u001B[0m\n\u001B[1;32m      2\u001B[0m limit \u001B[38;5;241m=\u001B[39m \u001B[38;5;241m1\u001B[39m\n\u001B[1;32m      3\u001B[0m count \u001B[38;5;241m=\u001B[39m \u001B[38;5;241m0\u001B[39m\n\u001B[0;32m----> 4\u001B[0m \u001B[38;5;28;01mfor\u001B[39;00m wikidata_id, claims \u001B[38;5;129;01min\u001B[39;00m \u001B[43mrelations\u001B[49m\u001B[38;5;241m.\u001B[39mitems()\u001B[38;5;241m.\u001B[39mto_list[:limit]:\n\u001B[1;32m      5\u001B[0m     \u001B[38;5;28mprint\u001B[39m(\u001B[38;5;124mf\u001B[39m\u001B[38;5;124m\"\u001B[39m\u001B[38;5;124mEntity: \u001B[39m\u001B[38;5;132;01m{\u001B[39;00mwikidata_id\u001B[38;5;132;01m}\u001B[39;00m\u001B[38;5;124m\"\u001B[39m)\n\u001B[1;32m      6\u001B[0m     \u001B[38;5;28;01mfor\u001B[39;00m property_id, claim_list \u001B[38;5;129;01min\u001B[39;00m claims\u001B[38;5;241m.\u001B[39mitems():\n",
      "\u001B[0;31mNameError\u001B[0m: name 'relations' is not defined"
     ]
    }
   ],
   "source": [
    "for wikidata_id, claims in relations.items():\n",
    "    print(f\"Entity: {wikidata_id}\")\n",
    "    for property_id, claim_list in claims.items():\n",
    "        print(f\"  Property: {property_id}\")\n",
    "        for claim in claim_list:\n",
    "            mainsnak = claim['mainsnak']\n",
    "            if 'datavalue' in mainsnak:\n",
    "                value = mainsnak['datavalue']\n",
    "                print(f\"    Value: {value}\")\n",
    "                break"
   ]
  },
  {
   "cell_type": "markdown",
   "source": [
    "## Creazione del dataframe"
   ],
   "metadata": {
    "collapsed": false
   }
  },
  {
   "cell_type": "code",
   "execution_count": null,
   "metadata": {
    "id": "ED1sFI0Cxn3b"
   },
   "outputs": [],
   "source": [
    "triples = []\n",
    "for wikidata_id, claims in relations.items():\n",
    "    for property_id, claim_list in claims.items():\n",
    "        for claim in claim_list:\n",
    "            mainsnak = claim['mainsnak']\n",
    "            if 'datavalue' in mainsnak:\n",
    "                value = mainsnak['datavalue']\n",
    "                if value['type'] == 'wikibase-entityid':\n",
    "                    value_id = value['value']['id']\n",
    "                    #print(f\"Entity: {wikidata_id} Relation: {property_id} Entity: {value_id}\")\n",
    "                    triples.append({'entity': wikidata_id, 'rel': property_id, 'objt': value_id})\n",
    "\n",
    "df = pd.DataFrame(triples)\n",
    "df.head(3)"
   ]
  },
  {
   "cell_type": "code",
   "execution_count": null,
   "metadata": {
    "id": "NIrZHeiV2PgI"
   },
   "outputs": [],
   "source": [
    "print(f\"Numero di entità (head) presenti: {df.entity.nunique()}\")\n",
    "print(f\"Numero di relazioni presenti: {df.rel.nunique()}\")\n",
    "print(f\"Numero di entità (tail) presenti: {df.objt.nunique()}\")"
   ]
  },
  {
   "cell_type": "code",
   "outputs": [
    {
     "data": {
      "text/plain": "  entity   rel      objt pageTitle_entity views_entity\n0   Q635   P22    Q39991        Cleopatra       158267\n1   Q635   P21  Q6581072        Cleopatra       158267\n2   Q635  P509   Q114953        Cleopatra       158267",
      "text/html": "<div>\n<style scoped>\n    .dataframe tbody tr th:only-of-type {\n        vertical-align: middle;\n    }\n\n    .dataframe tbody tr th {\n        vertical-align: top;\n    }\n\n    .dataframe thead th {\n        text-align: right;\n    }\n</style>\n<table border=\"1\" class=\"dataframe\">\n  <thead>\n    <tr style=\"text-align: right;\">\n      <th></th>\n      <th>entity</th>\n      <th>rel</th>\n      <th>objt</th>\n      <th>pageTitle_entity</th>\n      <th>views_entity</th>\n    </tr>\n  </thead>\n  <tbody>\n    <tr>\n      <th>0</th>\n      <td>Q635</td>\n      <td>P22</td>\n      <td>Q39991</td>\n      <td>Cleopatra</td>\n      <td>158267</td>\n    </tr>\n    <tr>\n      <th>1</th>\n      <td>Q635</td>\n      <td>P21</td>\n      <td>Q6581072</td>\n      <td>Cleopatra</td>\n      <td>158267</td>\n    </tr>\n    <tr>\n      <th>2</th>\n      <td>Q635</td>\n      <td>P509</td>\n      <td>Q114953</td>\n      <td>Cleopatra</td>\n      <td>158267</td>\n    </tr>\n  </tbody>\n</table>\n</div>"
     },
     "execution_count": 9,
     "metadata": {},
     "output_type": "execute_result"
    }
   ],
   "source": [
    "df_try = df.merge(df_ent, right_on='wikidata_id', left_on='entity', how='left')\n",
    "df_try=df_try.drop(['wikidata_id'], axis=1)\n",
    "df_try=df_try.rename(columns={'pageTitle': 'pageTitle_entity', 'views':'views_entity'})\n",
    "df_try.head(3)"
   ],
   "metadata": {
    "collapsed": false,
    "ExecuteTime": {
     "end_time": "2024-05-30T12:03:29.395652Z",
     "start_time": "2024-05-30T12:03:29.385086Z"
    }
   },
   "execution_count": 9
  },
  {
   "cell_type": "code",
   "execution_count": 10,
   "metadata": {
    "id": "4eWHmi56r6Zk",
    "ExecuteTime": {
     "end_time": "2024-05-30T12:03:29.412061Z",
     "start_time": "2024-05-30T12:03:29.398014Z"
    }
   },
   "outputs": [],
   "source": [
    "df_try.to_csv(\"./data/df_triple.csv\", index=None)"
   ]
  },
  {
   "cell_type": "markdown",
   "source": [
    "## Riduzione del numero di code"
   ],
   "metadata": {
    "collapsed": false
   }
  },
  {
   "cell_type": "code",
   "outputs": [
    {
     "data": {
      "text/plain": "(12312, 5)"
     },
     "execution_count": 8,
     "metadata": {},
     "output_type": "execute_result"
    }
   ],
   "source": [
    "if 'df_try' not in globals():\n",
    "    df_try = pd.read_csv(\"./data/df_triple.csv\", header=0)\n",
    "    \n",
    "df_try.shape"
   ],
   "metadata": {
    "collapsed": false,
    "ExecuteTime": {
     "end_time": "2024-05-31T13:26:24.302364Z",
     "start_time": "2024-05-31T13:26:24.289704Z"
    }
   },
   "execution_count": 8
  },
  {
   "cell_type": "markdown",
   "source": [
    "### Rimozione delle entità già vestite"
   ],
   "metadata": {
    "collapsed": false
   }
  },
  {
   "cell_type": "code",
   "outputs": [
    {
     "data": {
      "text/plain": "(12003, 5)"
     },
     "execution_count": 14,
     "metadata": {},
     "output_type": "execute_result"
    }
   ],
   "source": [
    "df_try_new_entites = df_try[~df_try.objt.isin(df_try.entity)]\n",
    "df_try_new_entites.shape"
   ],
   "metadata": {
    "collapsed": false,
    "ExecuteTime": {
     "end_time": "2024-05-31T13:36:10.824228Z",
     "start_time": "2024-05-31T13:36:10.817865Z"
    }
   },
   "execution_count": 14
  },
  {
   "cell_type": "code",
   "outputs": [
    {
     "name": "stderr",
     "output_type": "stream",
     "text": [
      "Batch:   1%|          | 2/241 [00:22<44:21, 11.14s/it]\n"
     ]
    },
    {
     "ename": "KeyboardInterrupt",
     "evalue": "",
     "output_type": "error",
     "traceback": [
      "\u001B[0;31m---------------------------------------------------------------------------\u001B[0m",
      "\u001B[0;31mKeyboardInterrupt\u001B[0m                         Traceback (most recent call last)",
      "Cell \u001B[0;32mIn[15], line 68\u001B[0m\n\u001B[1;32m     65\u001B[0m start_time \u001B[38;5;241m=\u001B[39m time\u001B[38;5;241m.\u001B[39mtime()\n\u001B[1;32m     67\u001B[0m wikidata_ids \u001B[38;5;241m=\u001B[39m df_try_new_entites[\u001B[38;5;124m'\u001B[39m\u001B[38;5;124mobjt\u001B[39m\u001B[38;5;124m'\u001B[39m]\u001B[38;5;241m.\u001B[39mto_list()\n\u001B[0;32m---> 68\u001B[0m results, df_res_tail \u001B[38;5;241m=\u001B[39m \u001B[43mprocess_wikidata_entities\u001B[49m\u001B[43m(\u001B[49m\u001B[43mwikidata_ids\u001B[49m\u001B[43m)\u001B[49m\n\u001B[1;32m     70\u001B[0m \u001B[38;5;66;03m# Fine del cronometraggio\u001B[39;00m\n\u001B[1;32m     71\u001B[0m end_time \u001B[38;5;241m=\u001B[39m time\u001B[38;5;241m.\u001B[39mtime()\n",
      "Cell \u001B[0;32mIn[15], line 54\u001B[0m, in \u001B[0;36mprocess_wikidata_entities\u001B[0;34m(wikidata_ids)\u001B[0m\n\u001B[1;32m     52\u001B[0m titles \u001B[38;5;241m=\u001B[39m get_wikipedia_titles(batch)\n\u001B[1;32m     53\u001B[0m \u001B[38;5;66;03m#print(\"After get_wikipedia_titles: \", time.time() - start_time)\u001B[39;00m\n\u001B[0;32m---> 54\u001B[0m pageviews \u001B[38;5;241m=\u001B[39m \u001B[43mget_pageviews\u001B[49m\u001B[43m(\u001B[49m\u001B[43mtitles\u001B[49m\u001B[38;5;241;43m.\u001B[39;49m\u001B[43mtitles\u001B[49m\u001B[38;5;241;43m.\u001B[39;49m\u001B[43mto_list\u001B[49m\u001B[43m(\u001B[49m\u001B[43m)\u001B[49m\u001B[43m)\u001B[49m\n\u001B[1;32m     55\u001B[0m \u001B[38;5;66;03m#print(\"After get_pageviews: \", time.time() - start_time)\u001B[39;00m\n\u001B[1;32m     57\u001B[0m app \u001B[38;5;241m=\u001B[39m pd\u001B[38;5;241m.\u001B[39mDataFrame({\u001B[38;5;124m'\u001B[39m\u001B[38;5;124mid\u001B[39m\u001B[38;5;124m'\u001B[39m:titles\u001B[38;5;241m.\u001B[39ment\u001B[38;5;241m.\u001B[39mto_list(), \u001B[38;5;124m'\u001B[39m\u001B[38;5;124mtitle\u001B[39m\u001B[38;5;124m'\u001B[39m:titles\u001B[38;5;241m.\u001B[39mtitles\u001B[38;5;241m.\u001B[39mto_list(), \u001B[38;5;124m'\u001B[39m\u001B[38;5;124mviews\u001B[39m\u001B[38;5;124m'\u001B[39m:pageviews\u001B[38;5;241m.\u001B[39mvalues()})\n",
      "Cell \u001B[0;32mIn[15], line 33\u001B[0m, in \u001B[0;36mget_pageviews\u001B[0;34m(titles)\u001B[0m\n\u001B[1;32m     31\u001B[0m \u001B[38;5;28;01mfor\u001B[39;00m title \u001B[38;5;129;01min\u001B[39;00m titles:\n\u001B[1;32m     32\u001B[0m     title_formatted \u001B[38;5;241m=\u001B[39m title\u001B[38;5;241m.\u001B[39mreplace(\u001B[38;5;124m'\u001B[39m\u001B[38;5;124m \u001B[39m\u001B[38;5;124m'\u001B[39m, \u001B[38;5;124m'\u001B[39m\u001B[38;5;124m_\u001B[39m\u001B[38;5;124m'\u001B[39m)\n\u001B[0;32m---> 33\u001B[0m     response \u001B[38;5;241m=\u001B[39m \u001B[43mrequests\u001B[49m\u001B[38;5;241;43m.\u001B[39;49m\u001B[43mget\u001B[49m\u001B[43m(\u001B[49m\u001B[43murl\u001B[49m\u001B[38;5;241;43m.\u001B[39;49m\u001B[43mformat\u001B[49m\u001B[43m(\u001B[49m\u001B[43mtitle_formatted\u001B[49m\u001B[43m)\u001B[49m\u001B[43m,\u001B[49m\u001B[43m \u001B[49m\u001B[43mheaders\u001B[49m\u001B[38;5;241;43m=\u001B[39;49m\u001B[43m{\u001B[49m\u001B[38;5;124;43m'\u001B[39;49m\u001B[38;5;124;43mUser-Agent\u001B[39;49m\u001B[38;5;124;43m'\u001B[39;49m\u001B[43m:\u001B[49m\u001B[43m \u001B[49m\u001B[43muser_agent\u001B[49m\u001B[43m}\u001B[49m\u001B[43m)\u001B[49m\n\u001B[1;32m     34\u001B[0m     \u001B[38;5;28;01mif\u001B[39;00m response\u001B[38;5;241m.\u001B[39mstatus_code \u001B[38;5;241m==\u001B[39m \u001B[38;5;241m200\u001B[39m:\n\u001B[1;32m     35\u001B[0m         data \u001B[38;5;241m=\u001B[39m response\u001B[38;5;241m.\u001B[39mjson()\n",
      "File \u001B[0;32m~/DataspellProjects/knowledge2dataset/venv/lib/python3.9/site-packages/requests/api.py:73\u001B[0m, in \u001B[0;36mget\u001B[0;34m(url, params, **kwargs)\u001B[0m\n\u001B[1;32m     62\u001B[0m \u001B[38;5;28;01mdef\u001B[39;00m \u001B[38;5;21mget\u001B[39m(url, params\u001B[38;5;241m=\u001B[39m\u001B[38;5;28;01mNone\u001B[39;00m, \u001B[38;5;241m*\u001B[39m\u001B[38;5;241m*\u001B[39mkwargs):\n\u001B[1;32m     63\u001B[0m \u001B[38;5;250m    \u001B[39m\u001B[38;5;124mr\u001B[39m\u001B[38;5;124;03m\"\"\"Sends a GET request.\u001B[39;00m\n\u001B[1;32m     64\u001B[0m \n\u001B[1;32m     65\u001B[0m \u001B[38;5;124;03m    :param url: URL for the new :class:`Request` object.\u001B[39;00m\n\u001B[0;32m   (...)\u001B[0m\n\u001B[1;32m     70\u001B[0m \u001B[38;5;124;03m    :rtype: requests.Response\u001B[39;00m\n\u001B[1;32m     71\u001B[0m \u001B[38;5;124;03m    \"\"\"\u001B[39;00m\n\u001B[0;32m---> 73\u001B[0m     \u001B[38;5;28;01mreturn\u001B[39;00m \u001B[43mrequest\u001B[49m\u001B[43m(\u001B[49m\u001B[38;5;124;43m\"\u001B[39;49m\u001B[38;5;124;43mget\u001B[39;49m\u001B[38;5;124;43m\"\u001B[39;49m\u001B[43m,\u001B[49m\u001B[43m \u001B[49m\u001B[43murl\u001B[49m\u001B[43m,\u001B[49m\u001B[43m \u001B[49m\u001B[43mparams\u001B[49m\u001B[38;5;241;43m=\u001B[39;49m\u001B[43mparams\u001B[49m\u001B[43m,\u001B[49m\u001B[43m \u001B[49m\u001B[38;5;241;43m*\u001B[39;49m\u001B[38;5;241;43m*\u001B[39;49m\u001B[43mkwargs\u001B[49m\u001B[43m)\u001B[49m\n",
      "File \u001B[0;32m~/DataspellProjects/knowledge2dataset/venv/lib/python3.9/site-packages/requests/api.py:59\u001B[0m, in \u001B[0;36mrequest\u001B[0;34m(method, url, **kwargs)\u001B[0m\n\u001B[1;32m     55\u001B[0m \u001B[38;5;66;03m# By using the 'with' statement we are sure the session is closed, thus we\u001B[39;00m\n\u001B[1;32m     56\u001B[0m \u001B[38;5;66;03m# avoid leaving sockets open which can trigger a ResourceWarning in some\u001B[39;00m\n\u001B[1;32m     57\u001B[0m \u001B[38;5;66;03m# cases, and look like a memory leak in others.\u001B[39;00m\n\u001B[1;32m     58\u001B[0m \u001B[38;5;28;01mwith\u001B[39;00m sessions\u001B[38;5;241m.\u001B[39mSession() \u001B[38;5;28;01mas\u001B[39;00m session:\n\u001B[0;32m---> 59\u001B[0m     \u001B[38;5;28;01mreturn\u001B[39;00m \u001B[43msession\u001B[49m\u001B[38;5;241;43m.\u001B[39;49m\u001B[43mrequest\u001B[49m\u001B[43m(\u001B[49m\u001B[43mmethod\u001B[49m\u001B[38;5;241;43m=\u001B[39;49m\u001B[43mmethod\u001B[49m\u001B[43m,\u001B[49m\u001B[43m \u001B[49m\u001B[43murl\u001B[49m\u001B[38;5;241;43m=\u001B[39;49m\u001B[43murl\u001B[49m\u001B[43m,\u001B[49m\u001B[43m \u001B[49m\u001B[38;5;241;43m*\u001B[39;49m\u001B[38;5;241;43m*\u001B[39;49m\u001B[43mkwargs\u001B[49m\u001B[43m)\u001B[49m\n",
      "File \u001B[0;32m~/DataspellProjects/knowledge2dataset/venv/lib/python3.9/site-packages/requests/sessions.py:589\u001B[0m, in \u001B[0;36mSession.request\u001B[0;34m(self, method, url, params, data, headers, cookies, files, auth, timeout, allow_redirects, proxies, hooks, stream, verify, cert, json)\u001B[0m\n\u001B[1;32m    584\u001B[0m send_kwargs \u001B[38;5;241m=\u001B[39m {\n\u001B[1;32m    585\u001B[0m     \u001B[38;5;124m\"\u001B[39m\u001B[38;5;124mtimeout\u001B[39m\u001B[38;5;124m\"\u001B[39m: timeout,\n\u001B[1;32m    586\u001B[0m     \u001B[38;5;124m\"\u001B[39m\u001B[38;5;124mallow_redirects\u001B[39m\u001B[38;5;124m\"\u001B[39m: allow_redirects,\n\u001B[1;32m    587\u001B[0m }\n\u001B[1;32m    588\u001B[0m send_kwargs\u001B[38;5;241m.\u001B[39mupdate(settings)\n\u001B[0;32m--> 589\u001B[0m resp \u001B[38;5;241m=\u001B[39m \u001B[38;5;28;43mself\u001B[39;49m\u001B[38;5;241;43m.\u001B[39;49m\u001B[43msend\u001B[49m\u001B[43m(\u001B[49m\u001B[43mprep\u001B[49m\u001B[43m,\u001B[49m\u001B[43m \u001B[49m\u001B[38;5;241;43m*\u001B[39;49m\u001B[38;5;241;43m*\u001B[39;49m\u001B[43msend_kwargs\u001B[49m\u001B[43m)\u001B[49m\n\u001B[1;32m    591\u001B[0m \u001B[38;5;28;01mreturn\u001B[39;00m resp\n",
      "File \u001B[0;32m~/DataspellProjects/knowledge2dataset/venv/lib/python3.9/site-packages/requests/sessions.py:703\u001B[0m, in \u001B[0;36mSession.send\u001B[0;34m(self, request, **kwargs)\u001B[0m\n\u001B[1;32m    700\u001B[0m start \u001B[38;5;241m=\u001B[39m preferred_clock()\n\u001B[1;32m    702\u001B[0m \u001B[38;5;66;03m# Send the request\u001B[39;00m\n\u001B[0;32m--> 703\u001B[0m r \u001B[38;5;241m=\u001B[39m \u001B[43madapter\u001B[49m\u001B[38;5;241;43m.\u001B[39;49m\u001B[43msend\u001B[49m\u001B[43m(\u001B[49m\u001B[43mrequest\u001B[49m\u001B[43m,\u001B[49m\u001B[43m \u001B[49m\u001B[38;5;241;43m*\u001B[39;49m\u001B[38;5;241;43m*\u001B[39;49m\u001B[43mkwargs\u001B[49m\u001B[43m)\u001B[49m\n\u001B[1;32m    705\u001B[0m \u001B[38;5;66;03m# Total elapsed time of the request (approximately)\u001B[39;00m\n\u001B[1;32m    706\u001B[0m elapsed \u001B[38;5;241m=\u001B[39m preferred_clock() \u001B[38;5;241m-\u001B[39m start\n",
      "File \u001B[0;32m~/DataspellProjects/knowledge2dataset/venv/lib/python3.9/site-packages/requests/adapters.py:486\u001B[0m, in \u001B[0;36mHTTPAdapter.send\u001B[0;34m(self, request, stream, timeout, verify, cert, proxies)\u001B[0m\n\u001B[1;32m    483\u001B[0m     timeout \u001B[38;5;241m=\u001B[39m TimeoutSauce(connect\u001B[38;5;241m=\u001B[39mtimeout, read\u001B[38;5;241m=\u001B[39mtimeout)\n\u001B[1;32m    485\u001B[0m \u001B[38;5;28;01mtry\u001B[39;00m:\n\u001B[0;32m--> 486\u001B[0m     resp \u001B[38;5;241m=\u001B[39m \u001B[43mconn\u001B[49m\u001B[38;5;241;43m.\u001B[39;49m\u001B[43murlopen\u001B[49m\u001B[43m(\u001B[49m\n\u001B[1;32m    487\u001B[0m \u001B[43m        \u001B[49m\u001B[43mmethod\u001B[49m\u001B[38;5;241;43m=\u001B[39;49m\u001B[43mrequest\u001B[49m\u001B[38;5;241;43m.\u001B[39;49m\u001B[43mmethod\u001B[49m\u001B[43m,\u001B[49m\n\u001B[1;32m    488\u001B[0m \u001B[43m        \u001B[49m\u001B[43murl\u001B[49m\u001B[38;5;241;43m=\u001B[39;49m\u001B[43murl\u001B[49m\u001B[43m,\u001B[49m\n\u001B[1;32m    489\u001B[0m \u001B[43m        \u001B[49m\u001B[43mbody\u001B[49m\u001B[38;5;241;43m=\u001B[39;49m\u001B[43mrequest\u001B[49m\u001B[38;5;241;43m.\u001B[39;49m\u001B[43mbody\u001B[49m\u001B[43m,\u001B[49m\n\u001B[1;32m    490\u001B[0m \u001B[43m        \u001B[49m\u001B[43mheaders\u001B[49m\u001B[38;5;241;43m=\u001B[39;49m\u001B[43mrequest\u001B[49m\u001B[38;5;241;43m.\u001B[39;49m\u001B[43mheaders\u001B[49m\u001B[43m,\u001B[49m\n\u001B[1;32m    491\u001B[0m \u001B[43m        \u001B[49m\u001B[43mredirect\u001B[49m\u001B[38;5;241;43m=\u001B[39;49m\u001B[38;5;28;43;01mFalse\u001B[39;49;00m\u001B[43m,\u001B[49m\n\u001B[1;32m    492\u001B[0m \u001B[43m        \u001B[49m\u001B[43massert_same_host\u001B[49m\u001B[38;5;241;43m=\u001B[39;49m\u001B[38;5;28;43;01mFalse\u001B[39;49;00m\u001B[43m,\u001B[49m\n\u001B[1;32m    493\u001B[0m \u001B[43m        \u001B[49m\u001B[43mpreload_content\u001B[49m\u001B[38;5;241;43m=\u001B[39;49m\u001B[38;5;28;43;01mFalse\u001B[39;49;00m\u001B[43m,\u001B[49m\n\u001B[1;32m    494\u001B[0m \u001B[43m        \u001B[49m\u001B[43mdecode_content\u001B[49m\u001B[38;5;241;43m=\u001B[39;49m\u001B[38;5;28;43;01mFalse\u001B[39;49;00m\u001B[43m,\u001B[49m\n\u001B[1;32m    495\u001B[0m \u001B[43m        \u001B[49m\u001B[43mretries\u001B[49m\u001B[38;5;241;43m=\u001B[39;49m\u001B[38;5;28;43mself\u001B[39;49m\u001B[38;5;241;43m.\u001B[39;49m\u001B[43mmax_retries\u001B[49m\u001B[43m,\u001B[49m\n\u001B[1;32m    496\u001B[0m \u001B[43m        \u001B[49m\u001B[43mtimeout\u001B[49m\u001B[38;5;241;43m=\u001B[39;49m\u001B[43mtimeout\u001B[49m\u001B[43m,\u001B[49m\n\u001B[1;32m    497\u001B[0m \u001B[43m        \u001B[49m\u001B[43mchunked\u001B[49m\u001B[38;5;241;43m=\u001B[39;49m\u001B[43mchunked\u001B[49m\u001B[43m,\u001B[49m\n\u001B[1;32m    498\u001B[0m \u001B[43m    \u001B[49m\u001B[43m)\u001B[49m\n\u001B[1;32m    500\u001B[0m \u001B[38;5;28;01mexcept\u001B[39;00m (ProtocolError, \u001B[38;5;167;01mOSError\u001B[39;00m) \u001B[38;5;28;01mas\u001B[39;00m err:\n\u001B[1;32m    501\u001B[0m     \u001B[38;5;28;01mraise\u001B[39;00m \u001B[38;5;167;01mConnectionError\u001B[39;00m(err, request\u001B[38;5;241m=\u001B[39mrequest)\n",
      "File \u001B[0;32m~/DataspellProjects/knowledge2dataset/venv/lib/python3.9/site-packages/urllib3/connectionpool.py:793\u001B[0m, in \u001B[0;36mHTTPConnectionPool.urlopen\u001B[0;34m(self, method, url, body, headers, retries, redirect, assert_same_host, timeout, pool_timeout, release_conn, chunked, body_pos, preload_content, decode_content, **response_kw)\u001B[0m\n\u001B[1;32m    790\u001B[0m response_conn \u001B[38;5;241m=\u001B[39m conn \u001B[38;5;28;01mif\u001B[39;00m \u001B[38;5;129;01mnot\u001B[39;00m release_conn \u001B[38;5;28;01melse\u001B[39;00m \u001B[38;5;28;01mNone\u001B[39;00m\n\u001B[1;32m    792\u001B[0m \u001B[38;5;66;03m# Make the request on the HTTPConnection object\u001B[39;00m\n\u001B[0;32m--> 793\u001B[0m response \u001B[38;5;241m=\u001B[39m \u001B[38;5;28;43mself\u001B[39;49m\u001B[38;5;241;43m.\u001B[39;49m\u001B[43m_make_request\u001B[49m\u001B[43m(\u001B[49m\n\u001B[1;32m    794\u001B[0m \u001B[43m    \u001B[49m\u001B[43mconn\u001B[49m\u001B[43m,\u001B[49m\n\u001B[1;32m    795\u001B[0m \u001B[43m    \u001B[49m\u001B[43mmethod\u001B[49m\u001B[43m,\u001B[49m\n\u001B[1;32m    796\u001B[0m \u001B[43m    \u001B[49m\u001B[43murl\u001B[49m\u001B[43m,\u001B[49m\n\u001B[1;32m    797\u001B[0m \u001B[43m    \u001B[49m\u001B[43mtimeout\u001B[49m\u001B[38;5;241;43m=\u001B[39;49m\u001B[43mtimeout_obj\u001B[49m\u001B[43m,\u001B[49m\n\u001B[1;32m    798\u001B[0m \u001B[43m    \u001B[49m\u001B[43mbody\u001B[49m\u001B[38;5;241;43m=\u001B[39;49m\u001B[43mbody\u001B[49m\u001B[43m,\u001B[49m\n\u001B[1;32m    799\u001B[0m \u001B[43m    \u001B[49m\u001B[43mheaders\u001B[49m\u001B[38;5;241;43m=\u001B[39;49m\u001B[43mheaders\u001B[49m\u001B[43m,\u001B[49m\n\u001B[1;32m    800\u001B[0m \u001B[43m    \u001B[49m\u001B[43mchunked\u001B[49m\u001B[38;5;241;43m=\u001B[39;49m\u001B[43mchunked\u001B[49m\u001B[43m,\u001B[49m\n\u001B[1;32m    801\u001B[0m \u001B[43m    \u001B[49m\u001B[43mretries\u001B[49m\u001B[38;5;241;43m=\u001B[39;49m\u001B[43mretries\u001B[49m\u001B[43m,\u001B[49m\n\u001B[1;32m    802\u001B[0m \u001B[43m    \u001B[49m\u001B[43mresponse_conn\u001B[49m\u001B[38;5;241;43m=\u001B[39;49m\u001B[43mresponse_conn\u001B[49m\u001B[43m,\u001B[49m\n\u001B[1;32m    803\u001B[0m \u001B[43m    \u001B[49m\u001B[43mpreload_content\u001B[49m\u001B[38;5;241;43m=\u001B[39;49m\u001B[43mpreload_content\u001B[49m\u001B[43m,\u001B[49m\n\u001B[1;32m    804\u001B[0m \u001B[43m    \u001B[49m\u001B[43mdecode_content\u001B[49m\u001B[38;5;241;43m=\u001B[39;49m\u001B[43mdecode_content\u001B[49m\u001B[43m,\u001B[49m\n\u001B[1;32m    805\u001B[0m \u001B[43m    \u001B[49m\u001B[38;5;241;43m*\u001B[39;49m\u001B[38;5;241;43m*\u001B[39;49m\u001B[43mresponse_kw\u001B[49m\u001B[43m,\u001B[49m\n\u001B[1;32m    806\u001B[0m \u001B[43m\u001B[49m\u001B[43m)\u001B[49m\n\u001B[1;32m    808\u001B[0m \u001B[38;5;66;03m# Everything went great!\u001B[39;00m\n\u001B[1;32m    809\u001B[0m clean_exit \u001B[38;5;241m=\u001B[39m \u001B[38;5;28;01mTrue\u001B[39;00m\n",
      "File \u001B[0;32m~/DataspellProjects/knowledge2dataset/venv/lib/python3.9/site-packages/urllib3/connectionpool.py:537\u001B[0m, in \u001B[0;36mHTTPConnectionPool._make_request\u001B[0;34m(self, conn, method, url, body, headers, retries, timeout, chunked, response_conn, preload_content, decode_content, enforce_content_length)\u001B[0m\n\u001B[1;32m    535\u001B[0m \u001B[38;5;66;03m# Receive the response from the server\u001B[39;00m\n\u001B[1;32m    536\u001B[0m \u001B[38;5;28;01mtry\u001B[39;00m:\n\u001B[0;32m--> 537\u001B[0m     response \u001B[38;5;241m=\u001B[39m \u001B[43mconn\u001B[49m\u001B[38;5;241;43m.\u001B[39;49m\u001B[43mgetresponse\u001B[49m\u001B[43m(\u001B[49m\u001B[43m)\u001B[49m\n\u001B[1;32m    538\u001B[0m \u001B[38;5;28;01mexcept\u001B[39;00m (BaseSSLError, \u001B[38;5;167;01mOSError\u001B[39;00m) \u001B[38;5;28;01mas\u001B[39;00m e:\n\u001B[1;32m    539\u001B[0m     \u001B[38;5;28mself\u001B[39m\u001B[38;5;241m.\u001B[39m_raise_timeout(err\u001B[38;5;241m=\u001B[39me, url\u001B[38;5;241m=\u001B[39murl, timeout_value\u001B[38;5;241m=\u001B[39mread_timeout)\n",
      "File \u001B[0;32m~/DataspellProjects/knowledge2dataset/venv/lib/python3.9/site-packages/urllib3/connection.py:466\u001B[0m, in \u001B[0;36mHTTPConnection.getresponse\u001B[0;34m(self)\u001B[0m\n\u001B[1;32m    463\u001B[0m \u001B[38;5;28;01mfrom\u001B[39;00m \u001B[38;5;21;01m.\u001B[39;00m\u001B[38;5;21;01mresponse\u001B[39;00m \u001B[38;5;28;01mimport\u001B[39;00m HTTPResponse\n\u001B[1;32m    465\u001B[0m \u001B[38;5;66;03m# Get the response from http.client.HTTPConnection\u001B[39;00m\n\u001B[0;32m--> 466\u001B[0m httplib_response \u001B[38;5;241m=\u001B[39m \u001B[38;5;28;43msuper\u001B[39;49m\u001B[43m(\u001B[49m\u001B[43m)\u001B[49m\u001B[38;5;241;43m.\u001B[39;49m\u001B[43mgetresponse\u001B[49m\u001B[43m(\u001B[49m\u001B[43m)\u001B[49m\n\u001B[1;32m    468\u001B[0m \u001B[38;5;28;01mtry\u001B[39;00m:\n\u001B[1;32m    469\u001B[0m     assert_header_parsing(httplib_response\u001B[38;5;241m.\u001B[39mmsg)\n",
      "File \u001B[0;32m/Library/Developer/CommandLineTools/Library/Frameworks/Python3.framework/Versions/3.9/lib/python3.9/http/client.py:1349\u001B[0m, in \u001B[0;36mHTTPConnection.getresponse\u001B[0;34m(self)\u001B[0m\n\u001B[1;32m   1347\u001B[0m \u001B[38;5;28;01mtry\u001B[39;00m:\n\u001B[1;32m   1348\u001B[0m     \u001B[38;5;28;01mtry\u001B[39;00m:\n\u001B[0;32m-> 1349\u001B[0m         \u001B[43mresponse\u001B[49m\u001B[38;5;241;43m.\u001B[39;49m\u001B[43mbegin\u001B[49m\u001B[43m(\u001B[49m\u001B[43m)\u001B[49m\n\u001B[1;32m   1350\u001B[0m     \u001B[38;5;28;01mexcept\u001B[39;00m \u001B[38;5;167;01mConnectionError\u001B[39;00m:\n\u001B[1;32m   1351\u001B[0m         \u001B[38;5;28mself\u001B[39m\u001B[38;5;241m.\u001B[39mclose()\n",
      "File \u001B[0;32m/Library/Developer/CommandLineTools/Library/Frameworks/Python3.framework/Versions/3.9/lib/python3.9/http/client.py:316\u001B[0m, in \u001B[0;36mHTTPResponse.begin\u001B[0;34m(self)\u001B[0m\n\u001B[1;32m    314\u001B[0m \u001B[38;5;66;03m# read until we get a non-100 response\u001B[39;00m\n\u001B[1;32m    315\u001B[0m \u001B[38;5;28;01mwhile\u001B[39;00m \u001B[38;5;28;01mTrue\u001B[39;00m:\n\u001B[0;32m--> 316\u001B[0m     version, status, reason \u001B[38;5;241m=\u001B[39m \u001B[38;5;28;43mself\u001B[39;49m\u001B[38;5;241;43m.\u001B[39;49m\u001B[43m_read_status\u001B[49m\u001B[43m(\u001B[49m\u001B[43m)\u001B[49m\n\u001B[1;32m    317\u001B[0m     \u001B[38;5;28;01mif\u001B[39;00m status \u001B[38;5;241m!=\u001B[39m CONTINUE:\n\u001B[1;32m    318\u001B[0m         \u001B[38;5;28;01mbreak\u001B[39;00m\n",
      "File \u001B[0;32m/Library/Developer/CommandLineTools/Library/Frameworks/Python3.framework/Versions/3.9/lib/python3.9/http/client.py:277\u001B[0m, in \u001B[0;36mHTTPResponse._read_status\u001B[0;34m(self)\u001B[0m\n\u001B[1;32m    276\u001B[0m \u001B[38;5;28;01mdef\u001B[39;00m \u001B[38;5;21m_read_status\u001B[39m(\u001B[38;5;28mself\u001B[39m):\n\u001B[0;32m--> 277\u001B[0m     line \u001B[38;5;241m=\u001B[39m \u001B[38;5;28mstr\u001B[39m(\u001B[38;5;28;43mself\u001B[39;49m\u001B[38;5;241;43m.\u001B[39;49m\u001B[43mfp\u001B[49m\u001B[38;5;241;43m.\u001B[39;49m\u001B[43mreadline\u001B[49m\u001B[43m(\u001B[49m\u001B[43m_MAXLINE\u001B[49m\u001B[43m \u001B[49m\u001B[38;5;241;43m+\u001B[39;49m\u001B[43m \u001B[49m\u001B[38;5;241;43m1\u001B[39;49m\u001B[43m)\u001B[49m, \u001B[38;5;124m\"\u001B[39m\u001B[38;5;124miso-8859-1\u001B[39m\u001B[38;5;124m\"\u001B[39m)\n\u001B[1;32m    278\u001B[0m     \u001B[38;5;28;01mif\u001B[39;00m \u001B[38;5;28mlen\u001B[39m(line) \u001B[38;5;241m>\u001B[39m _MAXLINE:\n\u001B[1;32m    279\u001B[0m         \u001B[38;5;28;01mraise\u001B[39;00m LineTooLong(\u001B[38;5;124m\"\u001B[39m\u001B[38;5;124mstatus line\u001B[39m\u001B[38;5;124m\"\u001B[39m)\n",
      "File \u001B[0;32m/Library/Developer/CommandLineTools/Library/Frameworks/Python3.framework/Versions/3.9/lib/python3.9/socket.py:704\u001B[0m, in \u001B[0;36mSocketIO.readinto\u001B[0;34m(self, b)\u001B[0m\n\u001B[1;32m    702\u001B[0m \u001B[38;5;28;01mwhile\u001B[39;00m \u001B[38;5;28;01mTrue\u001B[39;00m:\n\u001B[1;32m    703\u001B[0m     \u001B[38;5;28;01mtry\u001B[39;00m:\n\u001B[0;32m--> 704\u001B[0m         \u001B[38;5;28;01mreturn\u001B[39;00m \u001B[38;5;28;43mself\u001B[39;49m\u001B[38;5;241;43m.\u001B[39;49m\u001B[43m_sock\u001B[49m\u001B[38;5;241;43m.\u001B[39;49m\u001B[43mrecv_into\u001B[49m\u001B[43m(\u001B[49m\u001B[43mb\u001B[49m\u001B[43m)\u001B[49m\n\u001B[1;32m    705\u001B[0m     \u001B[38;5;28;01mexcept\u001B[39;00m timeout:\n\u001B[1;32m    706\u001B[0m         \u001B[38;5;28mself\u001B[39m\u001B[38;5;241m.\u001B[39m_timeout_occurred \u001B[38;5;241m=\u001B[39m \u001B[38;5;28;01mTrue\u001B[39;00m\n",
      "File \u001B[0;32m/Library/Developer/CommandLineTools/Library/Frameworks/Python3.framework/Versions/3.9/lib/python3.9/ssl.py:1241\u001B[0m, in \u001B[0;36mSSLSocket.recv_into\u001B[0;34m(self, buffer, nbytes, flags)\u001B[0m\n\u001B[1;32m   1237\u001B[0m     \u001B[38;5;28;01mif\u001B[39;00m flags \u001B[38;5;241m!=\u001B[39m \u001B[38;5;241m0\u001B[39m:\n\u001B[1;32m   1238\u001B[0m         \u001B[38;5;28;01mraise\u001B[39;00m \u001B[38;5;167;01mValueError\u001B[39;00m(\n\u001B[1;32m   1239\u001B[0m           \u001B[38;5;124m\"\u001B[39m\u001B[38;5;124mnon-zero flags not allowed in calls to recv_into() on \u001B[39m\u001B[38;5;132;01m%s\u001B[39;00m\u001B[38;5;124m\"\u001B[39m \u001B[38;5;241m%\u001B[39m\n\u001B[1;32m   1240\u001B[0m           \u001B[38;5;28mself\u001B[39m\u001B[38;5;241m.\u001B[39m\u001B[38;5;18m__class__\u001B[39m)\n\u001B[0;32m-> 1241\u001B[0m     \u001B[38;5;28;01mreturn\u001B[39;00m \u001B[38;5;28;43mself\u001B[39;49m\u001B[38;5;241;43m.\u001B[39;49m\u001B[43mread\u001B[49m\u001B[43m(\u001B[49m\u001B[43mnbytes\u001B[49m\u001B[43m,\u001B[49m\u001B[43m \u001B[49m\u001B[43mbuffer\u001B[49m\u001B[43m)\u001B[49m\n\u001B[1;32m   1242\u001B[0m \u001B[38;5;28;01melse\u001B[39;00m:\n\u001B[1;32m   1243\u001B[0m     \u001B[38;5;28;01mreturn\u001B[39;00m \u001B[38;5;28msuper\u001B[39m()\u001B[38;5;241m.\u001B[39mrecv_into(buffer, nbytes, flags)\n",
      "File \u001B[0;32m/Library/Developer/CommandLineTools/Library/Frameworks/Python3.framework/Versions/3.9/lib/python3.9/ssl.py:1099\u001B[0m, in \u001B[0;36mSSLSocket.read\u001B[0;34m(self, len, buffer)\u001B[0m\n\u001B[1;32m   1097\u001B[0m \u001B[38;5;28;01mtry\u001B[39;00m:\n\u001B[1;32m   1098\u001B[0m     \u001B[38;5;28;01mif\u001B[39;00m buffer \u001B[38;5;129;01mis\u001B[39;00m \u001B[38;5;129;01mnot\u001B[39;00m \u001B[38;5;28;01mNone\u001B[39;00m:\n\u001B[0;32m-> 1099\u001B[0m         \u001B[38;5;28;01mreturn\u001B[39;00m \u001B[38;5;28;43mself\u001B[39;49m\u001B[38;5;241;43m.\u001B[39;49m\u001B[43m_sslobj\u001B[49m\u001B[38;5;241;43m.\u001B[39;49m\u001B[43mread\u001B[49m\u001B[43m(\u001B[49m\u001B[38;5;28;43mlen\u001B[39;49m\u001B[43m,\u001B[49m\u001B[43m \u001B[49m\u001B[43mbuffer\u001B[49m\u001B[43m)\u001B[49m\n\u001B[1;32m   1100\u001B[0m     \u001B[38;5;28;01melse\u001B[39;00m:\n\u001B[1;32m   1101\u001B[0m         \u001B[38;5;28;01mreturn\u001B[39;00m \u001B[38;5;28mself\u001B[39m\u001B[38;5;241m.\u001B[39m_sslobj\u001B[38;5;241m.\u001B[39mread(\u001B[38;5;28mlen\u001B[39m)\n",
      "\u001B[0;31mKeyboardInterrupt\u001B[0m: "
     ]
    }
   ],
   "source": [
    "start_time = time.time()\n",
    "\n",
    "wikidata_ids = df_try_new_entites['objt'].to_list()\n",
    "results, df_res_tail = process_wikidata_entities(wikidata_ids)\n",
    "\n",
    "end_time = time.time()\n",
    "\n",
    "execution_time = end_time - start_time\n",
    "print(f\"Tempo di esecuzione: {execution_time/60} minuti\")"
   ],
   "metadata": {
    "collapsed": false,
    "ExecuteTime": {
     "end_time": "2024-05-31T13:37:42.555710Z",
     "start_time": "2024-05-31T13:37:20.162775Z"
    }
   },
   "execution_count": 15
  },
  {
   "cell_type": "code",
   "outputs": [
    {
     "data": {
      "text/plain": "  entity   rel      objt pageTitle_entity  views_entity       pageTitle_objt  \\\n0   Q635   P22    Q39991        Cleopatra        158267  Ptolemy XII Auletes   \n1   Q635   P21  Q6581072        Cleopatra        158267      Female (gender)   \n9   Q635  P509   Q114953        Cleopatra        158267                  NaN   \n\n  views_objt  \n0     264658  \n1       2194  \n9        NaN  ",
      "text/html": "<div>\n<style scoped>\n    .dataframe tbody tr th:only-of-type {\n        vertical-align: middle;\n    }\n\n    .dataframe tbody tr th {\n        vertical-align: top;\n    }\n\n    .dataframe thead th {\n        text-align: right;\n    }\n</style>\n<table border=\"1\" class=\"dataframe\">\n  <thead>\n    <tr style=\"text-align: right;\">\n      <th></th>\n      <th>entity</th>\n      <th>rel</th>\n      <th>objt</th>\n      <th>pageTitle_entity</th>\n      <th>views_entity</th>\n      <th>pageTitle_objt</th>\n      <th>views_objt</th>\n    </tr>\n  </thead>\n  <tbody>\n    <tr>\n      <th>0</th>\n      <td>Q635</td>\n      <td>P22</td>\n      <td>Q39991</td>\n      <td>Cleopatra</td>\n      <td>158267</td>\n      <td>Ptolemy XII Auletes</td>\n      <td>264658</td>\n    </tr>\n    <tr>\n      <th>1</th>\n      <td>Q635</td>\n      <td>P21</td>\n      <td>Q6581072</td>\n      <td>Cleopatra</td>\n      <td>158267</td>\n      <td>Female (gender)</td>\n      <td>2194</td>\n    </tr>\n    <tr>\n      <th>9</th>\n      <td>Q635</td>\n      <td>P509</td>\n      <td>Q114953</td>\n      <td>Cleopatra</td>\n      <td>158267</td>\n      <td>NaN</td>\n      <td>NaN</td>\n    </tr>\n  </tbody>\n</table>\n</div>"
     },
     "execution_count": 13,
     "metadata": {},
     "output_type": "execute_result"
    }
   ],
   "source": [
    "df_unito = pd.merge(df_try, df_res_tail, left_on='objt', right_on='id', how='left')\n",
    "df_unito = df_unito.drop(['id'], axis=1).drop_duplicates()\n",
    "df_unito = df_unito.rename(columns={'title': 'pageTitle_objt', 'views':'views_objt'})\n",
    "\n",
    "df_unito.head(3)"
   ],
   "metadata": {
    "collapsed": false,
    "ExecuteTime": {
     "end_time": "2024-05-30T12:44:55.421793Z",
     "start_time": "2024-05-30T12:44:55.370993Z"
    }
   },
   "execution_count": 13
  },
  {
   "cell_type": "code",
   "outputs": [],
   "source": [
    "df_unito.to_csv(\"./data/df_triple_info.csv\", index=None)"
   ],
   "metadata": {
    "collapsed": false,
    "ExecuteTime": {
     "end_time": "2024-05-30T12:44:55.442133Z",
     "start_time": "2024-05-30T12:44:55.422863Z"
    }
   },
   "execution_count": 14
  }
 ],
 "metadata": {
  "colab": {
   "provenance": []
  },
  "kernelspec": {
   "name": "python3",
   "language": "python",
   "display_name": "Python 3 (ipykernel)"
  },
  "language_info": {
   "name": "python"
  }
 },
 "nbformat": 4,
 "nbformat_minor": 0
}
