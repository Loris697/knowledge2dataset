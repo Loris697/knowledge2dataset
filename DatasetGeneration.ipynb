{
 "cells": [
  {
   "cell_type": "code",
   "execution_count": null,
   "id": "16e3309d-3736-4887-95c6-051fe4966cfa",
   "metadata": {},
   "outputs": [],
   "source": [
    "import pandas as pd\n",
    "import requests\n",
    "import numpy as np\n",
    "import torch\n",
    "from tqdm import tqdm\n",
    "\n",
    "from pykeen import predict\n",
    "from pykeen.triples import TriplesFactory"
   ]
  },
  {
   "cell_type": "code",
   "execution_count": null,
   "id": "42cee5d3-de23-40db-a3df-8790fe6195fb",
   "metadata": {},
   "outputs": [],
   "source": [
    "def get_italian_labels_batch(qids, batch_size = 50):\n",
    "    url = \"https://www.wikidata.org/w/api.php\"\n",
    "    labels = {}  # Number of QIDs to fetch in one request\n",
    "    \n",
    "    for i in tqdm(range(0, len(qids), batch_size), desc=\"Fetching labels\"):\n",
    "        batch_qids = qids[i:i + batch_size]\n",
    "        params = {\n",
    "            \"action\": \"wbgetentities\",\n",
    "            \"ids\": \"|\".join(batch_qids),\n",
    "            \"languages\": \"it\",\n",
    "            \"format\": \"json\",\n",
    "            \"props\": \"labels\",\n",
    "        }\n",
    "        response = requests.get(url, params=params)\n",
    "        data = response.json()\n",
    "        \n",
    "        for qid in batch_qids:\n",
    "            if 'entities' in data and qid in data['entities'] and 'labels' in data['entities'][qid] and 'it' in data['entities'][qid]['labels']:\n",
    "                labels[qid] = data['entities'][qid]['labels']['it']['value']\n",
    "            else:\n",
    "                labels[qid] = \"No Italian label found\"\n",
    "                \n",
    "    return labels"
   ]
  },
  {
   "cell_type": "code",
   "execution_count": null,
   "id": "6ab5163f-153d-46b7-8b22-deb36705bf80",
   "metadata": {},
   "outputs": [],
   "source": [
    "pykeen_model = torch.load('Models/RotatE.pkl')\n",
    "pykeen_model"
   ]
  },
  {
   "cell_type": "code",
   "execution_count": null,
   "id": "0d2528ca-134e-421f-9846-ba738670e8b9",
   "metadata": {
    "scrolled": true
   },
   "outputs": [],
   "source": [
    "dataframe = pd.read_csv(\"data/df_most_clicked_reduced.csv\")\n",
    "#dataframe_test = dataframe.drop_duplicates().head(100)\n",
    "dataframe"
   ]
  },
  {
   "cell_type": "code",
   "execution_count": null,
   "id": "1a51370b-8a93-4d58-a4e0-5da690215034",
   "metadata": {},
   "outputs": [],
   "source": [
    "len(np.unique(dataframe['head'])), len(np.unique(dataframe['rel'])), len(np.unique(dataframe['tail']))"
   ]
  },
  {
   "cell_type": "code",
   "execution_count": null,
   "id": "f9683e73-ace8-40ee-b86e-6dede4757b3e",
   "metadata": {},
   "outputs": [],
   "source": [
    "triples = dataframe[['head', 'rel', 'tail']].values\n",
    "tf = TriplesFactory.from_labeled_triples(triples)"
   ]
  },
  {
   "cell_type": "code",
   "execution_count": null,
   "id": "f400c0ab-d717-428f-a70c-28fb6e0a301d",
   "metadata": {},
   "outputs": [],
   "source": [
    "# Ensure the length of each tuple is 3\n",
    "assert all(len(triple) == 3 for triple in triples)"
   ]
  },
  {
   "cell_type": "code",
   "execution_count": null,
   "id": "655e909e-2beb-422d-9aa2-88b2b5557576",
   "metadata": {},
   "outputs": [],
   "source": [
    "# Create an empty list to store the results\n",
    "results = []\n",
    "\n",
    "# Iterate through each row in the dataframe with a progress bar\n",
    "for index, row in tqdm(dataframe.iterrows(), total=dataframe_test.shape[0]):\n",
    "    distractors = predict.predict_target(\n",
    "        model=pykeen_model,\n",
    "        head=row['head'],\n",
    "        relation=row['rel'],\n",
    "        triples_factory=tf,\n",
    "    ).df\n",
    "    distractors = distractors.drop(columns=[\"tail_id\"])\n",
    "    distractors[\"head\"] = row['head']\n",
    "    distractors[\"rel\"] = row['rel']\n",
    "    distractors[\"tail_true\"] = row['tail']\n",
    "\n",
    "    #deleting all the distractor triplets that are correct (to not have two correct answer)\n",
    "    merged_df = distractors.merge(dataframe, left_on=['tail_label', 'head', 'rel'], right_on=['tail', 'head', 'rel'], how='left', indicator=True)\n",
    "    distractors = merged_df[merged_df['_merge'] == 'left_only'].drop(columns=['_merge', \"tail\"])\n",
    "\n",
    "    distractors = distractors.sort_values(\"score\", ascending=False).head(3)\n",
    "    \n",
    "    # Append the results to the list\n",
    "    results.append(distractors)\n",
    "\n",
    "# Combine all the results into a single dataframe\n",
    "distactors_dataframes = pd.concat(results, ignore_index=True)"
   ]
  },
  {
   "cell_type": "code",
   "execution_count": null,
   "id": "8cf1c29b-502c-41aa-b64c-9e7c48a3bb64",
   "metadata": {},
   "outputs": [],
   "source": [
    "distactors_dataframes"
   ]
  },
  {
   "cell_type": "code",
   "execution_count": null,
   "id": "05a93e6e-b5cb-45b5-b8f5-7f48b010cb9a",
   "metadata": {},
   "outputs": [],
   "source": [
    "#Adding the italian names\n",
    "\n",
    "#finding unique elements\n",
    "list_unique_object = []\n",
    "\n",
    "for column in [\"head\", \"tail_label\", \"tail_true\"]:\n",
    "    current_list = list(np.unique(distactors_dataframes[column]))\n",
    "    list_unique_object = list(set(list_unique_object) | set(current_list))\n",
    "\n",
    "list_unique_relation = np.unique(distactors_dataframes.rel)"
   ]
  },
  {
   "cell_type": "code",
   "execution_count": null,
   "id": "4d063759-c5db-4992-98b1-c23fefdb3f4e",
   "metadata": {},
   "outputs": [],
   "source": [
    "len(list_unique_object), len(list_unique_relation)"
   ]
  },
  {
   "cell_type": "code",
   "execution_count": null,
   "id": "566c9f29-51f5-44e4-8d88-41a688a7eefb",
   "metadata": {},
   "outputs": [],
   "source": [
    "desc_Q_list = get_italian_labels_batch(list_unique_object)\n",
    "desc_P_list = get_italian_labels_batch(list_unique_relation)"
   ]
  },
  {
   "cell_type": "code",
   "execution_count": null,
   "id": "08853e8a-c065-46b9-920a-09b49362c2ff",
   "metadata": {},
   "outputs": [],
   "source": [
    "rel_italian = pd.Series(desc_P_list).to_frame()\n",
    "rel_italian.columns = [\"name\"]\n",
    "rel_italian"
   ]
  },
  {
   "cell_type": "code",
   "execution_count": null,
   "id": "225ff599-6583-4bcb-b8ce-af794551349b",
   "metadata": {},
   "outputs": [],
   "source": [
    "rel_italian = rel_italian.query(' name != \"No Italian label found\"')"
   ]
  },
  {
   "cell_type": "code",
   "execution_count": null,
   "id": "da37847d-662f-47c5-87e2-8831b8abc973",
   "metadata": {},
   "outputs": [],
   "source": [
    "object_italian = pd.Series(desc_Q_list).to_frame()\n",
    "object_italian.columns = [\"name\"]\n",
    "object_italian"
   ]
  },
  {
   "cell_type": "code",
   "execution_count": null,
   "id": "d17286b4-618f-4385-a561-6ae756e15d7d",
   "metadata": {},
   "outputs": [],
   "source": [
    "object_italian = object_italian.query(' name != \"No Italian label found\"')"
   ]
  },
  {
   "cell_type": "code",
   "execution_count": null,
   "id": "09ff09a0-8d27-48c5-b6b1-adac4fe4eed2",
   "metadata": {},
   "outputs": [],
   "source": [
    "#replacing name for entities\n",
    "for column in [\"head\", \"tail_label\", \"tail_true\"]:\n",
    "    distactors_dataframes = distactors_dataframes.merge(object_italian, left_on=column, right_index = True, how='left')\n",
    "    distactors_dataframes[column] = distactors_dataframes[\"name\"]\n",
    "    distactors_dataframes = distactors_dataframes.drop(columns=[\"name\"])\n",
    "\n",
    "distactors_dataframes = distactors_dataframes.merge(rel_italian, left_on=\"rel\", right_index = True, how='left')\n",
    "distactors_dataframes[\"rel\"] = distactors_dataframes[\"name\"]\n",
    "distactors_dataframes = distactors_dataframes.drop(columns=[\"name\"])"
   ]
  },
  {
   "cell_type": "code",
   "execution_count": null,
   "id": "dabb36f8-4b47-4005-bb74-2709b9923624",
   "metadata": {},
   "outputs": [],
   "source": [
    "#renaming columns\n",
    "distactors_dataframes.columns = [\"Score\", \"Distractor\", \"Object\", \"Relationship\" , \"Answer\"]"
   ]
  },
  {
   "cell_type": "code",
   "execution_count": null,
   "id": "503b1d4d-b9e0-4437-8a44-70dca93a46dd",
   "metadata": {},
   "outputs": [],
   "source": [
    "distactors_dataframes.loc[:,'count'] = distactors_dataframes.groupby(['Object', 'Relationship', 'Answer']).cumcount()"
   ]
  },
  {
   "cell_type": "code",
   "execution_count": null,
   "id": "962a07d8-5c4c-4951-a96b-1d11a0c88849",
   "metadata": {},
   "outputs": [],
   "source": [
    "distactors_dataframes"
   ]
  },
  {
   "cell_type": "code",
   "execution_count": null,
   "id": "081d3aac-d83e-4155-9d0c-147c460bc98c",
   "metadata": {},
   "outputs": [],
   "source": [
    "# Pivoting the DataFrame\n",
    "df_pivoted_distractor = distactors_dataframes.pivot_table(index=['Object', 'Relationship', 'Answer'], columns='count', values='Distractor', aggfunc='first').reset_index()\n",
    "df_pivoted_distractor.columns = ['Object', 'Relationship', 'Correct', 'Answer_1', 'Answer_2', 'Answer_3']  # Renaming the columns\n",
    "df_pivoted_distractor[\"Answer_4\"] = df_pivoted_distractor.Correct"
   ]
  },
  {
   "cell_type": "code",
   "execution_count": null,
   "id": "58fd78f2-dcca-47ca-81e8-d31bbec9b3f5",
   "metadata": {},
   "outputs": [],
   "source": [
    "# Pivot the DataFrame for Score\n",
    "df_pivoted_score = distactors_dataframes.pivot_table(index=['Object', 'Relationship', 'Answer'], columns='count', values='Score', aggfunc='first').reset_index()\n",
    "df_pivoted_score.columns = ['Object', 'Relationship', 'Correct'] + [f'Score_{int(col + 1)}' for col in df_pivoted_score.columns[3:]]"
   ]
  },
  {
   "cell_type": "code",
   "execution_count": null,
   "id": "4568418f-ed66-4186-a492-72ebe4f35b8c",
   "metadata": {},
   "outputs": [],
   "source": [
    "df_pivoted = pd.merge(df_pivoted_distractor, df_pivoted_score, on=['Object', 'Relationship', 'Correct'])\n",
    "df_pivoted[\"Score_sum\"] = df_pivoted.Score_1 + df_pivoted.Score_2 + df_pivoted.Score_3\n",
    "df_pivoted"
   ]
  },
  {
   "cell_type": "code",
   "execution_count": null,
   "id": "6ce0aceb-8005-4345-b38b-a0df1000d176",
   "metadata": {},
   "outputs": [],
   "source": [
    "#dropping anwer with any pages with no italian name\n",
    "df_pivoted = df_pivoted.dropna().reset_index()"
   ]
  },
  {
   "cell_type": "code",
   "execution_count": null,
   "id": "9922d0cc-3e26-42f8-bee4-ba44e5921c2d",
   "metadata": {},
   "outputs": [],
   "source": [
    "# Set a random seed for reproducibility\n",
    "np.random.seed(42)\n",
    "\n",
    "# Define the columns to shuffle\n",
    "columns_to_shuffle = ['Answer_1', 'Answer_2', 'Answer_3', 'Answer_4']\n",
    "\n",
    "# Shuffle each row\n",
    "df_pivoted[columns_to_shuffle] = df_pivoted[columns_to_shuffle].apply(lambda x: np.random.permutation(x), axis=1, result_type='expand')\n",
    "\n",
    "df_pivoted.sort_values(\"Score_sum\")"
   ]
  },
  {
   "cell_type": "code",
   "execution_count": null,
   "id": "b71987ce-89b2-48f4-b66d-3b6ad9c5b3bd",
   "metadata": {},
   "outputs": [],
   "source": [
    "df_pivoted.to_csv(\"datasetItaliano.csv\")"
   ]
  },
  {
   "cell_type": "code",
   "execution_count": null,
   "id": "518d530c-ec30-49d6-8bf9-4fd824bbf0f5",
   "metadata": {},
   "outputs": [],
   "source": []
  }
 ],
 "metadata": {
  "kernelspec": {
   "display_name": "Python 3",
   "language": "python",
   "name": "python3"
  },
  "language_info": {
   "codemirror_mode": {
    "name": "ipython",
    "version": 3
   },
   "file_extension": ".py",
   "mimetype": "text/x-python",
   "name": "python",
   "nbconvert_exporter": "python",
   "pygments_lexer": "ipython3",
   "version": "3.11.7"
  }
 },
 "nbformat": 4,
 "nbformat_minor": 5
}
